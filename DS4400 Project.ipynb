{
 "cells": [
  {
   "cell_type": "markdown",
   "id": "cc4cb930",
   "metadata": {},
   "source": [
    "## Importing Package"
   ]
  },
  {
   "cell_type": "code",
   "execution_count": 100,
   "id": "b61171a0",
   "metadata": {},
   "outputs": [],
   "source": [
    "import pandas as pd\n",
    "from sklearn.model_selection import train_test_split\n",
    "from sklearn.preprocessing import StandardScaler\n",
    "from sklearn.metrics import accuracy_score\n",
    "from sklearn.metrics import precision_score\n",
    "from sklearn.metrics import recall_score\n",
    "from sklearn.metrics import f1_score\n",
    "from sklearn.metrics import roc_auc_score\n",
    "from sklearn.metrics import confusion_matrix\n",
    "from sklearn.metrics import make_scorer\n",
    "from sklearn.model_selection import cross_validate\n",
    "from sklearn.model_selection import KFold\n",
    "from sklearn.feature_selection import RFE\n",
    "from sklearn.tree import DecisionTreeClassifier\n",
    "from sklearn.linear_model import LogisticRegression\n",
    "from sklearn.ensemble import RandomForestClassifier\n",
    "from sklearn.discriminant_analysis import LinearDiscriminantAnalysis\n",
    "from sklearn.svm import LinearSVC\n",
    "from sklearn.neural_network import MLPClassifier\n",
    "from sklearn import metrics\n",
    "from sklearn.ensemble import AdaBoostClassifier\n",
    "from sklearn.model_selection import GridSearchCV\n",
    "import matplotlib.pyplot as plt\n",
    "import warnings\n",
    "from tqdm import tqdm\n",
    "from sklearn.svm import SVC"
   ]
  },
  {
   "cell_type": "markdown",
   "id": "a2b12420",
   "metadata": {},
   "source": [
    "## Dataset\n",
    "Loading the dataset from online."
   ]
  },
  {
   "cell_type": "code",
   "execution_count": 101,
   "id": "a5020e39",
   "metadata": {},
   "outputs": [],
   "source": [
    "original_test = pd.read_csv('https://raw.githubusercontent.com/Socrano/DS4400-Project/main/test.csv')"
   ]
  },
  {
   "cell_type": "code",
   "execution_count": 102,
   "id": "36a9a15f",
   "metadata": {},
   "outputs": [
    {
     "data": {
      "text/html": [
       "<div>\n",
       "<style scoped>\n",
       "    .dataframe tbody tr th:only-of-type {\n",
       "        vertical-align: middle;\n",
       "    }\n",
       "\n",
       "    .dataframe tbody tr th {\n",
       "        vertical-align: top;\n",
       "    }\n",
       "\n",
       "    .dataframe thead th {\n",
       "        text-align: right;\n",
       "    }\n",
       "</style>\n",
       "<table border=\"1\" class=\"dataframe\">\n",
       "  <thead>\n",
       "    <tr style=\"text-align: right;\">\n",
       "      <th></th>\n",
       "      <th>Unnamed: 0</th>\n",
       "      <th>id</th>\n",
       "      <th>Gender</th>\n",
       "      <th>Customer Type</th>\n",
       "      <th>Age</th>\n",
       "      <th>Type of Travel</th>\n",
       "      <th>Class</th>\n",
       "      <th>Flight Distance</th>\n",
       "      <th>Inflight wifi service</th>\n",
       "      <th>Departure/Arrival time convenient</th>\n",
       "      <th>...</th>\n",
       "      <th>Inflight entertainment</th>\n",
       "      <th>On-board service</th>\n",
       "      <th>Leg room service</th>\n",
       "      <th>Baggage handling</th>\n",
       "      <th>Checkin service</th>\n",
       "      <th>Inflight service</th>\n",
       "      <th>Cleanliness</th>\n",
       "      <th>Departure Delay in Minutes</th>\n",
       "      <th>Arrival Delay in Minutes</th>\n",
       "      <th>satisfaction</th>\n",
       "    </tr>\n",
       "  </thead>\n",
       "  <tbody>\n",
       "    <tr>\n",
       "      <th>0</th>\n",
       "      <td>0</td>\n",
       "      <td>19556</td>\n",
       "      <td>Female</td>\n",
       "      <td>Loyal Customer</td>\n",
       "      <td>52</td>\n",
       "      <td>Business travel</td>\n",
       "      <td>Eco</td>\n",
       "      <td>160</td>\n",
       "      <td>5</td>\n",
       "      <td>4</td>\n",
       "      <td>...</td>\n",
       "      <td>5</td>\n",
       "      <td>5</td>\n",
       "      <td>5</td>\n",
       "      <td>5</td>\n",
       "      <td>2</td>\n",
       "      <td>5</td>\n",
       "      <td>5</td>\n",
       "      <td>50</td>\n",
       "      <td>44.0</td>\n",
       "      <td>satisfied</td>\n",
       "    </tr>\n",
       "    <tr>\n",
       "      <th>1</th>\n",
       "      <td>1</td>\n",
       "      <td>90035</td>\n",
       "      <td>Female</td>\n",
       "      <td>Loyal Customer</td>\n",
       "      <td>36</td>\n",
       "      <td>Business travel</td>\n",
       "      <td>Business</td>\n",
       "      <td>2863</td>\n",
       "      <td>1</td>\n",
       "      <td>1</td>\n",
       "      <td>...</td>\n",
       "      <td>4</td>\n",
       "      <td>4</td>\n",
       "      <td>4</td>\n",
       "      <td>4</td>\n",
       "      <td>3</td>\n",
       "      <td>4</td>\n",
       "      <td>5</td>\n",
       "      <td>0</td>\n",
       "      <td>0.0</td>\n",
       "      <td>satisfied</td>\n",
       "    </tr>\n",
       "    <tr>\n",
       "      <th>2</th>\n",
       "      <td>2</td>\n",
       "      <td>12360</td>\n",
       "      <td>Male</td>\n",
       "      <td>disloyal Customer</td>\n",
       "      <td>20</td>\n",
       "      <td>Business travel</td>\n",
       "      <td>Eco</td>\n",
       "      <td>192</td>\n",
       "      <td>2</td>\n",
       "      <td>0</td>\n",
       "      <td>...</td>\n",
       "      <td>2</td>\n",
       "      <td>4</td>\n",
       "      <td>1</td>\n",
       "      <td>3</td>\n",
       "      <td>2</td>\n",
       "      <td>2</td>\n",
       "      <td>2</td>\n",
       "      <td>0</td>\n",
       "      <td>0.0</td>\n",
       "      <td>neutral or dissatisfied</td>\n",
       "    </tr>\n",
       "    <tr>\n",
       "      <th>3</th>\n",
       "      <td>3</td>\n",
       "      <td>77959</td>\n",
       "      <td>Male</td>\n",
       "      <td>Loyal Customer</td>\n",
       "      <td>44</td>\n",
       "      <td>Business travel</td>\n",
       "      <td>Business</td>\n",
       "      <td>3377</td>\n",
       "      <td>0</td>\n",
       "      <td>0</td>\n",
       "      <td>...</td>\n",
       "      <td>1</td>\n",
       "      <td>1</td>\n",
       "      <td>1</td>\n",
       "      <td>1</td>\n",
       "      <td>3</td>\n",
       "      <td>1</td>\n",
       "      <td>4</td>\n",
       "      <td>0</td>\n",
       "      <td>6.0</td>\n",
       "      <td>satisfied</td>\n",
       "    </tr>\n",
       "    <tr>\n",
       "      <th>4</th>\n",
       "      <td>4</td>\n",
       "      <td>36875</td>\n",
       "      <td>Female</td>\n",
       "      <td>Loyal Customer</td>\n",
       "      <td>49</td>\n",
       "      <td>Business travel</td>\n",
       "      <td>Eco</td>\n",
       "      <td>1182</td>\n",
       "      <td>2</td>\n",
       "      <td>3</td>\n",
       "      <td>...</td>\n",
       "      <td>2</td>\n",
       "      <td>2</td>\n",
       "      <td>2</td>\n",
       "      <td>2</td>\n",
       "      <td>4</td>\n",
       "      <td>2</td>\n",
       "      <td>4</td>\n",
       "      <td>0</td>\n",
       "      <td>20.0</td>\n",
       "      <td>satisfied</td>\n",
       "    </tr>\n",
       "  </tbody>\n",
       "</table>\n",
       "<p>5 rows × 25 columns</p>\n",
       "</div>"
      ],
      "text/plain": [
       "   Unnamed: 0     id  Gender      Customer Type  Age   Type of Travel  \\\n",
       "0           0  19556  Female     Loyal Customer   52  Business travel   \n",
       "1           1  90035  Female     Loyal Customer   36  Business travel   \n",
       "2           2  12360    Male  disloyal Customer   20  Business travel   \n",
       "3           3  77959    Male     Loyal Customer   44  Business travel   \n",
       "4           4  36875  Female     Loyal Customer   49  Business travel   \n",
       "\n",
       "      Class  Flight Distance  Inflight wifi service  \\\n",
       "0       Eco              160                      5   \n",
       "1  Business             2863                      1   \n",
       "2       Eco              192                      2   \n",
       "3  Business             3377                      0   \n",
       "4       Eco             1182                      2   \n",
       "\n",
       "   Departure/Arrival time convenient  ...  Inflight entertainment  \\\n",
       "0                                  4  ...                       5   \n",
       "1                                  1  ...                       4   \n",
       "2                                  0  ...                       2   \n",
       "3                                  0  ...                       1   \n",
       "4                                  3  ...                       2   \n",
       "\n",
       "   On-board service  Leg room service  Baggage handling  Checkin service  \\\n",
       "0                 5                 5                 5                2   \n",
       "1                 4                 4                 4                3   \n",
       "2                 4                 1                 3                2   \n",
       "3                 1                 1                 1                3   \n",
       "4                 2                 2                 2                4   \n",
       "\n",
       "   Inflight service  Cleanliness  Departure Delay in Minutes  \\\n",
       "0                 5            5                          50   \n",
       "1                 4            5                           0   \n",
       "2                 2            2                           0   \n",
       "3                 1            4                           0   \n",
       "4                 2            4                           0   \n",
       "\n",
       "   Arrival Delay in Minutes             satisfaction  \n",
       "0                      44.0                satisfied  \n",
       "1                       0.0                satisfied  \n",
       "2                       0.0  neutral or dissatisfied  \n",
       "3                       6.0                satisfied  \n",
       "4                      20.0                satisfied  \n",
       "\n",
       "[5 rows x 25 columns]"
      ]
     },
     "execution_count": 102,
     "metadata": {},
     "output_type": "execute_result"
    }
   ],
   "source": [
    "original_test.head()"
   ]
  },
  {
   "cell_type": "code",
   "execution_count": 103,
   "id": "d86d1636",
   "metadata": {},
   "outputs": [],
   "source": [
    "original_train = pd.read_csv('https://raw.githubusercontent.com/Socrano/DS4400-Project/main/train.csv')"
   ]
  },
  {
   "cell_type": "code",
   "execution_count": 104,
   "id": "6e869ee8",
   "metadata": {},
   "outputs": [
    {
     "data": {
      "text/html": [
       "<div>\n",
       "<style scoped>\n",
       "    .dataframe tbody tr th:only-of-type {\n",
       "        vertical-align: middle;\n",
       "    }\n",
       "\n",
       "    .dataframe tbody tr th {\n",
       "        vertical-align: top;\n",
       "    }\n",
       "\n",
       "    .dataframe thead th {\n",
       "        text-align: right;\n",
       "    }\n",
       "</style>\n",
       "<table border=\"1\" class=\"dataframe\">\n",
       "  <thead>\n",
       "    <tr style=\"text-align: right;\">\n",
       "      <th></th>\n",
       "      <th>Unnamed: 0</th>\n",
       "      <th>id</th>\n",
       "      <th>Gender</th>\n",
       "      <th>Customer Type</th>\n",
       "      <th>Age</th>\n",
       "      <th>Type of Travel</th>\n",
       "      <th>Class</th>\n",
       "      <th>Flight Distance</th>\n",
       "      <th>Inflight wifi service</th>\n",
       "      <th>Departure/Arrival time convenient</th>\n",
       "      <th>...</th>\n",
       "      <th>Inflight entertainment</th>\n",
       "      <th>On-board service</th>\n",
       "      <th>Leg room service</th>\n",
       "      <th>Baggage handling</th>\n",
       "      <th>Checkin service</th>\n",
       "      <th>Inflight service</th>\n",
       "      <th>Cleanliness</th>\n",
       "      <th>Departure Delay in Minutes</th>\n",
       "      <th>Arrival Delay in Minutes</th>\n",
       "      <th>satisfaction</th>\n",
       "    </tr>\n",
       "  </thead>\n",
       "  <tbody>\n",
       "    <tr>\n",
       "      <th>0</th>\n",
       "      <td>0</td>\n",
       "      <td>70172</td>\n",
       "      <td>Male</td>\n",
       "      <td>Loyal Customer</td>\n",
       "      <td>13</td>\n",
       "      <td>Personal Travel</td>\n",
       "      <td>Eco Plus</td>\n",
       "      <td>460</td>\n",
       "      <td>3</td>\n",
       "      <td>4</td>\n",
       "      <td>...</td>\n",
       "      <td>5</td>\n",
       "      <td>4</td>\n",
       "      <td>3</td>\n",
       "      <td>4</td>\n",
       "      <td>4</td>\n",
       "      <td>5</td>\n",
       "      <td>5</td>\n",
       "      <td>25</td>\n",
       "      <td>18.0</td>\n",
       "      <td>neutral or dissatisfied</td>\n",
       "    </tr>\n",
       "    <tr>\n",
       "      <th>1</th>\n",
       "      <td>1</td>\n",
       "      <td>5047</td>\n",
       "      <td>Male</td>\n",
       "      <td>disloyal Customer</td>\n",
       "      <td>25</td>\n",
       "      <td>Business travel</td>\n",
       "      <td>Business</td>\n",
       "      <td>235</td>\n",
       "      <td>3</td>\n",
       "      <td>2</td>\n",
       "      <td>...</td>\n",
       "      <td>1</td>\n",
       "      <td>1</td>\n",
       "      <td>5</td>\n",
       "      <td>3</td>\n",
       "      <td>1</td>\n",
       "      <td>4</td>\n",
       "      <td>1</td>\n",
       "      <td>1</td>\n",
       "      <td>6.0</td>\n",
       "      <td>neutral or dissatisfied</td>\n",
       "    </tr>\n",
       "    <tr>\n",
       "      <th>2</th>\n",
       "      <td>2</td>\n",
       "      <td>110028</td>\n",
       "      <td>Female</td>\n",
       "      <td>Loyal Customer</td>\n",
       "      <td>26</td>\n",
       "      <td>Business travel</td>\n",
       "      <td>Business</td>\n",
       "      <td>1142</td>\n",
       "      <td>2</td>\n",
       "      <td>2</td>\n",
       "      <td>...</td>\n",
       "      <td>5</td>\n",
       "      <td>4</td>\n",
       "      <td>3</td>\n",
       "      <td>4</td>\n",
       "      <td>4</td>\n",
       "      <td>4</td>\n",
       "      <td>5</td>\n",
       "      <td>0</td>\n",
       "      <td>0.0</td>\n",
       "      <td>satisfied</td>\n",
       "    </tr>\n",
       "    <tr>\n",
       "      <th>3</th>\n",
       "      <td>3</td>\n",
       "      <td>24026</td>\n",
       "      <td>Female</td>\n",
       "      <td>Loyal Customer</td>\n",
       "      <td>25</td>\n",
       "      <td>Business travel</td>\n",
       "      <td>Business</td>\n",
       "      <td>562</td>\n",
       "      <td>2</td>\n",
       "      <td>5</td>\n",
       "      <td>...</td>\n",
       "      <td>2</td>\n",
       "      <td>2</td>\n",
       "      <td>5</td>\n",
       "      <td>3</td>\n",
       "      <td>1</td>\n",
       "      <td>4</td>\n",
       "      <td>2</td>\n",
       "      <td>11</td>\n",
       "      <td>9.0</td>\n",
       "      <td>neutral or dissatisfied</td>\n",
       "    </tr>\n",
       "    <tr>\n",
       "      <th>4</th>\n",
       "      <td>4</td>\n",
       "      <td>119299</td>\n",
       "      <td>Male</td>\n",
       "      <td>Loyal Customer</td>\n",
       "      <td>61</td>\n",
       "      <td>Business travel</td>\n",
       "      <td>Business</td>\n",
       "      <td>214</td>\n",
       "      <td>3</td>\n",
       "      <td>3</td>\n",
       "      <td>...</td>\n",
       "      <td>3</td>\n",
       "      <td>3</td>\n",
       "      <td>4</td>\n",
       "      <td>4</td>\n",
       "      <td>3</td>\n",
       "      <td>3</td>\n",
       "      <td>3</td>\n",
       "      <td>0</td>\n",
       "      <td>0.0</td>\n",
       "      <td>satisfied</td>\n",
       "    </tr>\n",
       "  </tbody>\n",
       "</table>\n",
       "<p>5 rows × 25 columns</p>\n",
       "</div>"
      ],
      "text/plain": [
       "   Unnamed: 0      id  Gender      Customer Type  Age   Type of Travel  \\\n",
       "0           0   70172    Male     Loyal Customer   13  Personal Travel   \n",
       "1           1    5047    Male  disloyal Customer   25  Business travel   \n",
       "2           2  110028  Female     Loyal Customer   26  Business travel   \n",
       "3           3   24026  Female     Loyal Customer   25  Business travel   \n",
       "4           4  119299    Male     Loyal Customer   61  Business travel   \n",
       "\n",
       "      Class  Flight Distance  Inflight wifi service  \\\n",
       "0  Eco Plus              460                      3   \n",
       "1  Business              235                      3   \n",
       "2  Business             1142                      2   \n",
       "3  Business              562                      2   \n",
       "4  Business              214                      3   \n",
       "\n",
       "   Departure/Arrival time convenient  ...  Inflight entertainment  \\\n",
       "0                                  4  ...                       5   \n",
       "1                                  2  ...                       1   \n",
       "2                                  2  ...                       5   \n",
       "3                                  5  ...                       2   \n",
       "4                                  3  ...                       3   \n",
       "\n",
       "   On-board service  Leg room service  Baggage handling  Checkin service  \\\n",
       "0                 4                 3                 4                4   \n",
       "1                 1                 5                 3                1   \n",
       "2                 4                 3                 4                4   \n",
       "3                 2                 5                 3                1   \n",
       "4                 3                 4                 4                3   \n",
       "\n",
       "   Inflight service  Cleanliness  Departure Delay in Minutes  \\\n",
       "0                 5            5                          25   \n",
       "1                 4            1                           1   \n",
       "2                 4            5                           0   \n",
       "3                 4            2                          11   \n",
       "4                 3            3                           0   \n",
       "\n",
       "   Arrival Delay in Minutes             satisfaction  \n",
       "0                      18.0  neutral or dissatisfied  \n",
       "1                       6.0  neutral or dissatisfied  \n",
       "2                       0.0                satisfied  \n",
       "3                       9.0  neutral or dissatisfied  \n",
       "4                       0.0                satisfied  \n",
       "\n",
       "[5 rows x 25 columns]"
      ]
     },
     "execution_count": 104,
     "metadata": {},
     "output_type": "execute_result"
    }
   ],
   "source": [
    "original_train.head()"
   ]
  },
  {
   "cell_type": "markdown",
   "id": "ec3a6edb",
   "metadata": {},
   "source": [
    "## Data Wrangling"
   ]
  },
  {
   "cell_type": "code",
   "execution_count": 105,
   "id": "4253c14e",
   "metadata": {},
   "outputs": [
    {
     "data": {
      "text/plain": [
       "(129880, 25)"
      ]
     },
     "execution_count": 105,
     "metadata": {},
     "output_type": "execute_result"
    }
   ],
   "source": [
    "df = pd.concat([original_train, original_test])\n",
    "df.shape"
   ]
  },
  {
   "cell_type": "code",
   "execution_count": 106,
   "id": "7806fc28",
   "metadata": {},
   "outputs": [
    {
     "data": {
      "text/plain": [
       "(129487, 25)"
      ]
     },
     "execution_count": 106,
     "metadata": {},
     "output_type": "execute_result"
    }
   ],
   "source": [
    "df = df.dropna()\n",
    "df.shape"
   ]
  },
  {
   "cell_type": "code",
   "execution_count": 107,
   "id": "073c5de9",
   "metadata": {},
   "outputs": [
    {
     "data": {
      "text/html": [
       "<div>\n",
       "<style scoped>\n",
       "    .dataframe tbody tr th:only-of-type {\n",
       "        vertical-align: middle;\n",
       "    }\n",
       "\n",
       "    .dataframe tbody tr th {\n",
       "        vertical-align: top;\n",
       "    }\n",
       "\n",
       "    .dataframe thead th {\n",
       "        text-align: right;\n",
       "    }\n",
       "</style>\n",
       "<table border=\"1\" class=\"dataframe\">\n",
       "  <thead>\n",
       "    <tr style=\"text-align: right;\">\n",
       "      <th></th>\n",
       "      <th>Unnamed: 0</th>\n",
       "      <th>id</th>\n",
       "      <th>Gender</th>\n",
       "      <th>Customer Type</th>\n",
       "      <th>Age</th>\n",
       "      <th>Type of Travel</th>\n",
       "      <th>Class</th>\n",
       "      <th>Flight Distance</th>\n",
       "      <th>Inflight wifi service</th>\n",
       "      <th>Departure/Arrival time convenient</th>\n",
       "      <th>...</th>\n",
       "      <th>Seat comfort</th>\n",
       "      <th>Inflight entertainment</th>\n",
       "      <th>On-board service</th>\n",
       "      <th>Leg room service</th>\n",
       "      <th>Baggage handling</th>\n",
       "      <th>Checkin service</th>\n",
       "      <th>Inflight service</th>\n",
       "      <th>Cleanliness</th>\n",
       "      <th>Departure Delay in Minutes</th>\n",
       "      <th>Arrival Delay in Minutes</th>\n",
       "    </tr>\n",
       "  </thead>\n",
       "  <tbody>\n",
       "    <tr>\n",
       "      <th>0</th>\n",
       "      <td>0</td>\n",
       "      <td>70172</td>\n",
       "      <td>Male</td>\n",
       "      <td>Loyal Customer</td>\n",
       "      <td>13</td>\n",
       "      <td>Personal Travel</td>\n",
       "      <td>Eco Plus</td>\n",
       "      <td>460</td>\n",
       "      <td>3</td>\n",
       "      <td>4</td>\n",
       "      <td>...</td>\n",
       "      <td>5</td>\n",
       "      <td>5</td>\n",
       "      <td>4</td>\n",
       "      <td>3</td>\n",
       "      <td>4</td>\n",
       "      <td>4</td>\n",
       "      <td>5</td>\n",
       "      <td>5</td>\n",
       "      <td>25</td>\n",
       "      <td>18.0</td>\n",
       "    </tr>\n",
       "    <tr>\n",
       "      <th>1</th>\n",
       "      <td>1</td>\n",
       "      <td>5047</td>\n",
       "      <td>Male</td>\n",
       "      <td>disloyal Customer</td>\n",
       "      <td>25</td>\n",
       "      <td>Business travel</td>\n",
       "      <td>Business</td>\n",
       "      <td>235</td>\n",
       "      <td>3</td>\n",
       "      <td>2</td>\n",
       "      <td>...</td>\n",
       "      <td>1</td>\n",
       "      <td>1</td>\n",
       "      <td>1</td>\n",
       "      <td>5</td>\n",
       "      <td>3</td>\n",
       "      <td>1</td>\n",
       "      <td>4</td>\n",
       "      <td>1</td>\n",
       "      <td>1</td>\n",
       "      <td>6.0</td>\n",
       "    </tr>\n",
       "    <tr>\n",
       "      <th>2</th>\n",
       "      <td>2</td>\n",
       "      <td>110028</td>\n",
       "      <td>Female</td>\n",
       "      <td>Loyal Customer</td>\n",
       "      <td>26</td>\n",
       "      <td>Business travel</td>\n",
       "      <td>Business</td>\n",
       "      <td>1142</td>\n",
       "      <td>2</td>\n",
       "      <td>2</td>\n",
       "      <td>...</td>\n",
       "      <td>5</td>\n",
       "      <td>5</td>\n",
       "      <td>4</td>\n",
       "      <td>3</td>\n",
       "      <td>4</td>\n",
       "      <td>4</td>\n",
       "      <td>4</td>\n",
       "      <td>5</td>\n",
       "      <td>0</td>\n",
       "      <td>0.0</td>\n",
       "    </tr>\n",
       "    <tr>\n",
       "      <th>3</th>\n",
       "      <td>3</td>\n",
       "      <td>24026</td>\n",
       "      <td>Female</td>\n",
       "      <td>Loyal Customer</td>\n",
       "      <td>25</td>\n",
       "      <td>Business travel</td>\n",
       "      <td>Business</td>\n",
       "      <td>562</td>\n",
       "      <td>2</td>\n",
       "      <td>5</td>\n",
       "      <td>...</td>\n",
       "      <td>2</td>\n",
       "      <td>2</td>\n",
       "      <td>2</td>\n",
       "      <td>5</td>\n",
       "      <td>3</td>\n",
       "      <td>1</td>\n",
       "      <td>4</td>\n",
       "      <td>2</td>\n",
       "      <td>11</td>\n",
       "      <td>9.0</td>\n",
       "    </tr>\n",
       "    <tr>\n",
       "      <th>4</th>\n",
       "      <td>4</td>\n",
       "      <td>119299</td>\n",
       "      <td>Male</td>\n",
       "      <td>Loyal Customer</td>\n",
       "      <td>61</td>\n",
       "      <td>Business travel</td>\n",
       "      <td>Business</td>\n",
       "      <td>214</td>\n",
       "      <td>3</td>\n",
       "      <td>3</td>\n",
       "      <td>...</td>\n",
       "      <td>5</td>\n",
       "      <td>3</td>\n",
       "      <td>3</td>\n",
       "      <td>4</td>\n",
       "      <td>4</td>\n",
       "      <td>3</td>\n",
       "      <td>3</td>\n",
       "      <td>3</td>\n",
       "      <td>0</td>\n",
       "      <td>0.0</td>\n",
       "    </tr>\n",
       "  </tbody>\n",
       "</table>\n",
       "<p>5 rows × 24 columns</p>\n",
       "</div>"
      ],
      "text/plain": [
       "   Unnamed: 0      id  Gender      Customer Type  Age   Type of Travel  \\\n",
       "0           0   70172    Male     Loyal Customer   13  Personal Travel   \n",
       "1           1    5047    Male  disloyal Customer   25  Business travel   \n",
       "2           2  110028  Female     Loyal Customer   26  Business travel   \n",
       "3           3   24026  Female     Loyal Customer   25  Business travel   \n",
       "4           4  119299    Male     Loyal Customer   61  Business travel   \n",
       "\n",
       "      Class  Flight Distance  Inflight wifi service  \\\n",
       "0  Eco Plus              460                      3   \n",
       "1  Business              235                      3   \n",
       "2  Business             1142                      2   \n",
       "3  Business              562                      2   \n",
       "4  Business              214                      3   \n",
       "\n",
       "   Departure/Arrival time convenient  ...  Seat comfort  \\\n",
       "0                                  4  ...             5   \n",
       "1                                  2  ...             1   \n",
       "2                                  2  ...             5   \n",
       "3                                  5  ...             2   \n",
       "4                                  3  ...             5   \n",
       "\n",
       "   Inflight entertainment  On-board service  Leg room service  \\\n",
       "0                       5                 4                 3   \n",
       "1                       1                 1                 5   \n",
       "2                       5                 4                 3   \n",
       "3                       2                 2                 5   \n",
       "4                       3                 3                 4   \n",
       "\n",
       "   Baggage handling  Checkin service  Inflight service  Cleanliness  \\\n",
       "0                 4                4                 5            5   \n",
       "1                 3                1                 4            1   \n",
       "2                 4                4                 4            5   \n",
       "3                 3                1                 4            2   \n",
       "4                 4                3                 3            3   \n",
       "\n",
       "   Departure Delay in Minutes  Arrival Delay in Minutes  \n",
       "0                          25                      18.0  \n",
       "1                           1                       6.0  \n",
       "2                           0                       0.0  \n",
       "3                          11                       9.0  \n",
       "4                           0                       0.0  \n",
       "\n",
       "[5 rows x 24 columns]"
      ]
     },
     "execution_count": 107,
     "metadata": {},
     "output_type": "execute_result"
    }
   ],
   "source": [
    "#Select the column for features and target\n",
    "features = df.iloc[:,:24]\n",
    "target = df.iloc[:,24:25]\n",
    "features.head()"
   ]
  },
  {
   "cell_type": "code",
   "execution_count": 108,
   "id": "d288797d",
   "metadata": {},
   "outputs": [
    {
     "data": {
      "text/plain": [
       "array(['neutral or dissatisfied', 'satisfied'], dtype=object)"
      ]
     },
     "execution_count": 108,
     "metadata": {},
     "output_type": "execute_result"
    }
   ],
   "source": [
    "#Show distinct categories for the following variables\n",
    "pd.unique(target['satisfaction'])"
   ]
  },
  {
   "cell_type": "code",
   "execution_count": 109,
   "id": "e6c636cf",
   "metadata": {},
   "outputs": [
    {
     "data": {
      "text/plain": [
       "array(['Male', 'Female'], dtype=object)"
      ]
     },
     "execution_count": 109,
     "metadata": {},
     "output_type": "execute_result"
    }
   ],
   "source": [
    "pd.unique(features['Gender'])"
   ]
  },
  {
   "cell_type": "code",
   "execution_count": 110,
   "id": "f0cfeb64",
   "metadata": {},
   "outputs": [
    {
     "data": {
      "text/plain": [
       "array(['Loyal Customer', 'disloyal Customer'], dtype=object)"
      ]
     },
     "execution_count": 110,
     "metadata": {},
     "output_type": "execute_result"
    }
   ],
   "source": [
    "pd.unique(features['Customer Type'])"
   ]
  },
  {
   "cell_type": "code",
   "execution_count": 111,
   "id": "d7e83776",
   "metadata": {},
   "outputs": [
    {
     "data": {
      "text/plain": [
       "array(['Personal Travel', 'Business travel'], dtype=object)"
      ]
     },
     "execution_count": 111,
     "metadata": {},
     "output_type": "execute_result"
    }
   ],
   "source": [
    "pd.unique(features['Type of Travel'])"
   ]
  },
  {
   "cell_type": "code",
   "execution_count": 112,
   "id": "1ad8f3d9",
   "metadata": {},
   "outputs": [
    {
     "data": {
      "text/plain": [
       "array(['Eco Plus', 'Business', 'Eco'], dtype=object)"
      ]
     },
     "execution_count": 112,
     "metadata": {},
     "output_type": "execute_result"
    }
   ],
   "source": [
    "pd.unique(features['Class'])"
   ]
  },
  {
   "cell_type": "code",
   "execution_count": 113,
   "id": "715bc687",
   "metadata": {},
   "outputs": [],
   "source": [
    "# Convert categorical variable to numerical labels\n",
    "def classify(class_1, class_2, x):\n",
    "    if (x == class_1):\n",
    "        return 0\n",
    "    else:\n",
    "        return 1"
   ]
  },
  {
   "cell_type": "code",
   "execution_count": 114,
   "id": "47bbd77e",
   "metadata": {},
   "outputs": [],
   "source": [
    "# Encoding categorical variables to numerical labels\n",
    "features['Gender'] = features['Gender'].apply(lambda x: classify('Male', 'Female', x))\n",
    "features['Customer Type'] = features['Customer Type'].apply(lambda x: classify('Loyal Customer', 'disloyal Customer', x))\n",
    "features['Type of Travel'] = features['Type of Travel'].apply(lambda x: classify('Personal Travel', 'Business travel', x))\n",
    "target['satisfaction'] = target['satisfaction'].apply(lambda x: classify('neutral or dissatisfied', 'satisfied', x))\n",
    "features = features.drop(columns=['Unnamed: 0', 'id'])"
   ]
  },
  {
   "cell_type": "code",
   "execution_count": 115,
   "id": "36d3f133",
   "metadata": {},
   "outputs": [],
   "source": [
    "y = pd.get_dummies(features.Class)"
   ]
  },
  {
   "cell_type": "code",
   "execution_count": 116,
   "id": "bb33e4c1",
   "metadata": {},
   "outputs": [],
   "source": [
    "features = features.drop(columns = ['Class'])\n",
    "features['Business'] = y['Business']\n",
    "features['Eco'] = y['Eco']\n",
    "features['Eco Plus'] = y['Eco Plus']"
   ]
  },
  {
   "cell_type": "markdown",
   "id": "724bc1b4",
   "metadata": {},
   "source": [
    "## Split training and testing data"
   ]
  },
  {
   "cell_type": "code",
   "execution_count": 117,
   "id": "499ad78b",
   "metadata": {},
   "outputs": [],
   "source": [
    "X_train, X_test, y_train, y_test = train_test_split(features, target, random_state=3000)"
   ]
  },
  {
   "cell_type": "markdown",
   "id": "636ca893",
   "metadata": {},
   "source": [
    "## Scaling & Feature Selection"
   ]
  },
  {
   "cell_type": "code",
   "execution_count": 118,
   "id": "3de845a2",
   "metadata": {},
   "outputs": [],
   "source": [
    "scaler = StandardScaler()\n",
    "scaler.fit(X_train)\n",
    "X_train_scaled = scaler.transform(X_train)\n",
    "X_test_scaled = scaler.transform(X_test)"
   ]
  },
  {
   "cell_type": "code",
   "execution_count": 148,
   "id": "76ca7da7",
   "metadata": {},
   "outputs": [
    {
     "data": {
      "text/plain": [
       "(97115, 24)"
      ]
     },
     "execution_count": 148,
     "metadata": {},
     "output_type": "execute_result"
    }
   ],
   "source": [
    "X_train_scaled.shape"
   ]
  },
  {
   "cell_type": "code",
   "execution_count": 119,
   "id": "914fdee3",
   "metadata": {},
   "outputs": [],
   "source": [
    "\n",
    "\n",
    "##A function help to compare how many features should be selected\n",
    "feature_number_list = []\n",
    "feature_name_list = []\n",
    "train_acc_list = []\n",
    "test_acc_list = []\n",
    "def RFE_feature_selection(n):\n",
    "    select = RFE(DecisionTreeClassifier(random_state=3000), n_features_to_select=n)\n",
    "    select.fit(X_train_scaled, y_train)\n",
    "    X_train_selected = select.transform(X_train_scaled)\n",
    "    X_test_selected = select.transform(X_test_scaled)\n",
    "    model = DecisionTreeClassifier(random_state=3000).fit(X=X_train_selected, y=y_train)\n",
    "    print(\"\\n\\n\")\n",
    "    print(\"Selected \" + str(n) + \" features after RFE:\")\n",
    "    feature_name = []\n",
    "    for i in range(0, features.columns.size):\n",
    "        if select.get_support()[i]:\n",
    "            feature_name.append(features.columns[i])\n",
    "            print(\"\\t\" + features.columns[i])\n",
    "    print(\"\\n\")\n",
    "    print(\"DecisionTree performance with selected features:\")\n",
    "    feature_selection_prediction_train = model.predict(X_train_selected)\n",
    "    feature_selection_prediction_test = model.predict(X_test_selected)\n",
    "    print(\"\\tAccuracy value for training set: \", accuracy_score(y_train, feature_selection_prediction_train))\n",
    "    print(\"\\tAccuract value for testing set: \", accuracy_score(y_test, feature_selection_prediction_test))\n",
    "    print(\"\\tRecall value for training set: \", recall_score(y_train, feature_selection_prediction_train))\n",
    "    print(\"\\tRecall value for testing set: \", recall_score(y_test, feature_selection_prediction_test))\n",
    "    print(\"\\tPrecision value for training set: \", precision_score(y_train, feature_selection_prediction_train))\n",
    "    print(\"\\tPrecision value for testing set: \", precision_score(y_test, feature_selection_prediction_test))\n",
    "    print(\"\\tF1 value for training set: \", f1_score(y_train, feature_selection_prediction_train))\n",
    "    print(\"\\tF1 value for testing set: \", f1_score(y_test, feature_selection_prediction_test))\n",
    "    feature_number_list.append(n)\n",
    "    feature_name_list.append(feature_name)\n",
    "    train_acc_list.append(accuracy_score(y_train, feature_selection_prediction_train))\n",
    "    test_acc_list.append(accuracy_score(y_test, feature_selection_prediction_test))\n",
    "    return [X_train_selected, X_test_selected]"
   ]
  },
  {
   "cell_type": "code",
   "execution_count": 120,
   "id": "ded8abde",
   "metadata": {},
   "outputs": [
    {
     "name": "stdout",
     "output_type": "stream",
     "text": [
      "\n",
      "\n",
      "\n",
      "Selected 1 features after RFE:\n",
      "\tOnline boarding\n",
      "\n",
      "\n",
      "DecisionTree performance with selected features:\n",
      "\tAccuracy value for training set:  0.7891056994285126\n",
      "\tAccuract value for testing set:  0.7923514148029162\n",
      "\tRecall value for training set:  0.8556510620160546\n",
      "\tRecall value for testing set:  0.8607369396336683\n",
      "\tPrecision value for training set:  0.7152612826603325\n",
      "\tPrecision value for testing set:  0.7169486494508757\n",
      "\tF1 value for training set:  0.7791829737684768\n",
      "\tF1 value for testing set:  0.782290452131105\n",
      "\n",
      "\n",
      "\n",
      "Selected 2 features after RFE:\n",
      "\tFlight Distance\n",
      "\tOnline boarding\n",
      "\n",
      "\n",
      "DecisionTree performance with selected features:\n",
      "\tAccuracy value for training set:  0.8238892035215981\n",
      "\tAccuract value for testing set:  0.7757321141727419\n",
      "\tRecall value for training set:  0.7869811276076816\n",
      "\tRecall value for testing set:  0.7289573088161927\n",
      "\tPrecision value for training set:  0.8039040201248125\n",
      "\tPrecision value for testing set:  0.7473876507124589\n",
      "\tF1 value for training set:  0.795352566020126\n",
      "\tF1 value for testing set:  0.7380574397459951\n",
      "\n",
      "\n",
      "\n",
      "Selected 3 features after RFE:\n",
      "\tFlight Distance\n",
      "\tInflight wifi service\n",
      "\tOnline boarding\n",
      "\n",
      "\n",
      "DecisionTree performance with selected features:\n",
      "\tAccuracy value for training set:  0.8950934459146372\n",
      "\tAccuract value for testing set:  0.8065921166440133\n",
      "\tRecall value for training set:  0.8425564159030097\n",
      "\tRecall value for testing set:  0.7353716770009265\n",
      "\tPrecision value for training set:  0.9095370772730759\n",
      "\tPrecision value for testing set:  0.8019586507072906\n",
      "\tF1 value for training set:  0.8747664470449406\n",
      "\tF1 value for testing set:  0.7672231103840577\n",
      "\n",
      "\n",
      "\n",
      "Selected 4 features after RFE:\n",
      "\tType of Travel\n",
      "\tFlight Distance\n",
      "\tInflight wifi service\n",
      "\tOnline boarding\n",
      "\n",
      "\n",
      "DecisionTree performance with selected features:\n",
      "\tAccuracy value for training set:  0.9349739998970293\n",
      "\tAccuract value for testing set:  0.8596626714444582\n",
      "\tRecall value for training set:  0.9099950273495774\n",
      "\tRecall value for testing set:  0.826170622193714\n",
      "\tPrecision value for training set:  0.938599062133646\n",
      "\tPrecision value for testing set:  0.8463785046728972\n",
      "\tF1 value for training set:  0.9240757439134356\n",
      "\tF1 value for testing set:  0.8361524867457714\n",
      "\n",
      "\n",
      "\n",
      "Selected 5 features after RFE:\n",
      "\tAge\n",
      "\tType of Travel\n",
      "\tFlight Distance\n",
      "\tInflight wifi service\n",
      "\tOnline boarding\n",
      "\n",
      "\n",
      "DecisionTree performance with selected features:\n",
      "\tAccuracy value for training set:  0.9930906657056068\n",
      "\tAccuract value for testing set:  0.8517854936364759\n",
      "\tRecall value for training set:  0.9857213895006038\n",
      "\tRecall value for testing set:  0.8213954814339677\n",
      "\tPrecision value for training set:  0.9983691481197237\n",
      "\tPrecision value for testing set:  0.8341173916190201\n",
      "\tF1 value for training set:  0.9920049566885507\n",
      "\tF1 value for testing set:  0.8277075553002011\n",
      "\n",
      "\n",
      "\n",
      "Selected 6 features after RFE:\n",
      "\tAge\n",
      "\tType of Travel\n",
      "\tFlight Distance\n",
      "\tInflight wifi service\n",
      "\tOnline boarding\n",
      "\tInflight entertainment\n",
      "\n",
      "\n",
      "DecisionTree performance with selected features:\n",
      "\tAccuracy value for training set:  0.9977861298460587\n",
      "\tAccuract value for testing set:  0.8906462374891881\n",
      "\tRecall value for training set:  0.9951220667282328\n",
      "\tRecall value for testing set:  0.8707861164564179\n",
      "\tPrecision value for training set:  0.999785887614788\n",
      "\tPrecision value for testing set:  0.8761563284331302\n",
      "\tF1 value for training set:  0.9974485254850769\n",
      "\tF1 value for testing set:  0.8734629682585072\n",
      "\n",
      "\n",
      "\n",
      "Selected 7 features after RFE:\n",
      "\tAge\n",
      "\tType of Travel\n",
      "\tFlight Distance\n",
      "\tInflight wifi service\n",
      "\tGate location\n",
      "\tOnline boarding\n",
      "\tInflight entertainment\n",
      "\n",
      "\n",
      "DecisionTree performance with selected features:\n",
      "\tAccuracy value for training set:  0.9994542552643773\n",
      "\tAccuract value for testing set:  0.9082540467070308\n",
      "\tRecall value for training set:  0.9987449977504677\n",
      "\tRecall value for testing set:  0.89309386358777\n",
      "\tPrecision value for training set:  1.0\n",
      "\tPrecision value for testing set:  0.895007499464324\n",
      "\tF1 value for training set:  0.9993721048703337\n",
      "\tF1 value for testing set:  0.8940496575342467\n",
      "\n",
      "\n",
      "\n",
      "Selected 8 features after RFE:\n",
      "\tAge\n",
      "\tType of Travel\n",
      "\tFlight Distance\n",
      "\tInflight wifi service\n",
      "\tGate location\n",
      "\tOnline boarding\n",
      "\tInflight entertainment\n",
      "\tCheckin service\n",
      "\n",
      "\n",
      "DecisionTree performance with selected features:\n",
      "\tAccuracy value for training set:  0.9998970292951656\n",
      "\tAccuract value for testing set:  0.9103855183491907\n",
      "\tRecall value for training set:  0.9997632071227297\n",
      "\tRecall value for testing set:  0.8988667949540303\n",
      "\tPrecision value for training set:  1.0\n",
      "\tPrecision value for testing set:  0.8948488718603661\n",
      "\tF1 value for training set:  0.9998815895419882\n",
      "\tF1 value for testing set:  0.8968533333333334\n",
      "\n",
      "\n",
      "\n",
      "Selected 9 features after RFE:\n",
      "\tAge\n",
      "\tType of Travel\n",
      "\tFlight Distance\n",
      "\tInflight wifi service\n",
      "\tGate location\n",
      "\tOnline boarding\n",
      "\tInflight entertainment\n",
      "\tBaggage handling\n",
      "\tCheckin service\n",
      "\n",
      "\n",
      "DecisionTree performance with selected features:\n",
      "\tAccuracy value for training set:  0.9999794058590331\n",
      "\tAccuract value for testing set:  0.9191894229581119\n",
      "\tRecall value for training set:  0.999952641424546\n",
      "\tRecall value for testing set:  0.9064214952604946\n",
      "\tPrecision value for training set:  1.0\n",
      "\tPrecision value for testing set:  0.9070679694743599\n",
      "\tF1 value for training set:  0.9999763201515511\n",
      "\tF1 value for testing set:  0.9067446171395979\n",
      "\n",
      "\n",
      "\n",
      "Selected 10 features after RFE:\n",
      "\tCustomer Type\n",
      "\tAge\n",
      "\tType of Travel\n",
      "\tFlight Distance\n",
      "\tInflight wifi service\n",
      "\tGate location\n",
      "\tOnline boarding\n",
      "\tInflight entertainment\n",
      "\tBaggage handling\n",
      "\tCheckin service\n",
      "\n",
      "\n",
      "DecisionTree performance with selected features:\n",
      "\tAccuracy value for training set:  0.9999897029295165\n",
      "\tAccuract value for testing set:  0.9318855801309774\n",
      "\tRecall value for training set:  0.9999763207122729\n",
      "\tRecall value for testing set:  0.9216734373886395\n",
      "\tPrecision value for training set:  1.0\n",
      "\tPrecision value for testing set:  0.9212138481265137\n",
      "\tF1 value for training set:  0.9999881602159576\n",
      "\tF1 value for testing set:  0.9214435854501407\n",
      "\n",
      "\n",
      "\n",
      "Selected 11 features after RFE:\n",
      "\tCustomer Type\n",
      "\tAge\n",
      "\tType of Travel\n",
      "\tFlight Distance\n",
      "\tInflight wifi service\n",
      "\tGate location\n",
      "\tOnline boarding\n",
      "\tSeat comfort\n",
      "\tInflight entertainment\n",
      "\tBaggage handling\n",
      "\tCheckin service\n",
      "\n",
      "\n",
      "DecisionTree performance with selected features:\n",
      "\tAccuracy value for training set:  0.9999897029295165\n",
      "\tAccuract value for testing set:  0.9370752502162363\n",
      "\tRecall value for training set:  0.9999763207122729\n",
      "\tRecall value for testing set:  0.9280878055733732\n",
      "\tPrecision value for training set:  1.0\n",
      "\tPrecision value for testing set:  0.9268327402135231\n",
      "\tF1 value for training set:  0.9999881602159576\n",
      "\tF1 value for testing set:  0.9274598482960008\n",
      "\n",
      "\n",
      "\n",
      "Selected 12 features after RFE:\n",
      "\tCustomer Type\n",
      "\tAge\n",
      "\tType of Travel\n",
      "\tFlight Distance\n",
      "\tInflight wifi service\n",
      "\tGate location\n",
      "\tOnline boarding\n",
      "\tSeat comfort\n",
      "\tInflight entertainment\n",
      "\tBaggage handling\n",
      "\tCheckin service\n",
      "\tBusiness\n",
      "\n",
      "\n",
      "DecisionTree performance with selected features:\n",
      "\tAccuracy value for training set:  1.0\n",
      "\tAccuract value for testing set:  0.9422958111948597\n",
      "\tRecall value for training set:  1.0\n",
      "\tRecall value for testing set:  0.9314375311809564\n",
      "\tPrecision value for training set:  1.0\n",
      "\tPrecision value for testing set:  0.935169946332737\n",
      "\tF1 value for training set:  1.0\n",
      "\tF1 value for testing set:  0.9333000071413268\n",
      "\n",
      "\n",
      "\n",
      "Selected 13 features after RFE:\n",
      "\tCustomer Type\n",
      "\tAge\n",
      "\tType of Travel\n",
      "\tFlight Distance\n",
      "\tInflight wifi service\n",
      "\tGate location\n",
      "\tOnline boarding\n",
      "\tSeat comfort\n",
      "\tInflight entertainment\n",
      "\tBaggage handling\n",
      "\tCheckin service\n",
      "\tInflight service\n",
      "\tBusiness\n",
      "\n",
      "\n",
      "DecisionTree performance with selected features:\n",
      "\tAccuracy value for training set:  1.0\n",
      "\tAccuract value for testing set:  0.9465896453725442\n",
      "\tRecall value for training set:  1.0\n",
      "\tRecall value for testing set:  0.9375668163352576\n",
      "\tPrecision value for training set:  1.0\n",
      "\tPrecision value for testing set:  0.9391062250142775\n",
      "\tF1 value for training set:  1.0\n",
      "\tF1 value for testing set:  0.9383358892970506\n",
      "\n",
      "\n",
      "\n",
      "Selected 14 features after RFE:\n",
      "\tCustomer Type\n",
      "\tAge\n",
      "\tType of Travel\n",
      "\tFlight Distance\n",
      "\tInflight wifi service\n",
      "\tGate location\n",
      "\tOnline boarding\n",
      "\tSeat comfort\n",
      "\tInflight entertainment\n",
      "\tBaggage handling\n",
      "\tCheckin service\n",
      "\tInflight service\n",
      "\tArrival Delay in Minutes\n",
      "\tBusiness\n",
      "\n",
      "\n",
      "DecisionTree performance with selected features:\n",
      "\tAccuracy value for training set:  1.0\n",
      "\tAccuract value for testing set:  0.9455702458915112\n",
      "\tRecall value for training set:  1.0\n",
      "\tRecall value for testing set:  0.9404176466395838\n",
      "\tPrecision value for training set:  1.0\n",
      "\tPrecision value for testing set:  0.9344239076552652\n",
      "\tF1 value for training set:  1.0\n",
      "\tF1 value for testing set:  0.937411196362603\n"
     ]
    },
    {
     "name": "stdout",
     "output_type": "stream",
     "text": [
      "\n",
      "\n",
      "\n",
      "Selected 15 features after RFE:\n",
      "\tCustomer Type\n",
      "\tAge\n",
      "\tType of Travel\n",
      "\tFlight Distance\n",
      "\tInflight wifi service\n",
      "\tGate location\n",
      "\tOnline boarding\n",
      "\tSeat comfort\n",
      "\tInflight entertainment\n",
      "\tLeg room service\n",
      "\tBaggage handling\n",
      "\tCheckin service\n",
      "\tInflight service\n",
      "\tArrival Delay in Minutes\n",
      "\tBusiness\n",
      "\n",
      "\n",
      "DecisionTree performance with selected features:\n",
      "\tAccuracy value for training set:  1.0\n",
      "\tAccuract value for testing set:  0.9456629185716051\n",
      "\tRecall value for training set:  1.0\n",
      "\tRecall value for testing set:  0.938208253153731\n",
      "\tPrecision value for training set:  1.0\n",
      "\tPrecision value for testing set:  0.9365395560614684\n",
      "\tF1 value for training set:  1.0\n",
      "\tF1 value for testing set:  0.9373731619610496\n",
      "\n",
      "\n",
      "\n",
      "Selected 16 features after RFE:\n",
      "\tCustomer Type\n",
      "\tAge\n",
      "\tType of Travel\n",
      "\tFlight Distance\n",
      "\tInflight wifi service\n",
      "\tGate location\n",
      "\tOnline boarding\n",
      "\tSeat comfort\n",
      "\tInflight entertainment\n",
      "\tLeg room service\n",
      "\tBaggage handling\n",
      "\tCheckin service\n",
      "\tInflight service\n",
      "\tCleanliness\n",
      "\tArrival Delay in Minutes\n",
      "\tBusiness\n",
      "\n",
      "\n",
      "DecisionTree performance with selected features:\n",
      "\tAccuracy value for training set:  1.0\n",
      "\tAccuract value for testing set:  0.9471456814531076\n",
      "\tRecall value for training set:  1.0\n",
      "\tRecall value for testing set:  0.940061292851543\n",
      "\tPrecision value for training set:  1.0\n",
      "\tPrecision value for testing set:  0.938122332859175\n",
      "\tF1 value for training set:  1.0\n",
      "\tF1 value for testing set:  0.9390908120038447\n",
      "\n",
      "\n",
      "\n",
      "Selected 17 features after RFE:\n",
      "\tCustomer Type\n",
      "\tAge\n",
      "\tType of Travel\n",
      "\tFlight Distance\n",
      "\tInflight wifi service\n",
      "\tGate location\n",
      "\tOnline boarding\n",
      "\tSeat comfort\n",
      "\tInflight entertainment\n",
      "\tOn-board service\n",
      "\tLeg room service\n",
      "\tBaggage handling\n",
      "\tCheckin service\n",
      "\tInflight service\n",
      "\tCleanliness\n",
      "\tArrival Delay in Minutes\n",
      "\tBusiness\n",
      "\n",
      "\n",
      "DecisionTree performance with selected features:\n",
      "\tAccuracy value for training set:  1.0\n",
      "\tAccuract value for testing set:  0.9466205362659088\n",
      "\tRecall value for training set:  1.0\n",
      "\tRecall value for testing set:  0.939134773002637\n",
      "\tPrecision value for training set:  1.0\n",
      "\tPrecision value for testing set:  0.9377980214931322\n",
      "\tF1 value for training set:  1.0\n",
      "\tF1 value for testing set:  0.9384659212306816\n",
      "\n",
      "\n",
      "\n",
      "Selected 18 features after RFE:\n",
      "\tCustomer Type\n",
      "\tAge\n",
      "\tType of Travel\n",
      "\tFlight Distance\n",
      "\tInflight wifi service\n",
      "\tGate location\n",
      "\tOnline boarding\n",
      "\tSeat comfort\n",
      "\tInflight entertainment\n",
      "\tOn-board service\n",
      "\tLeg room service\n",
      "\tBaggage handling\n",
      "\tCheckin service\n",
      "\tInflight service\n",
      "\tCleanliness\n",
      "\tDeparture Delay in Minutes\n",
      "\tArrival Delay in Minutes\n",
      "\tBusiness\n",
      "\n",
      "\n",
      "DecisionTree performance with selected features:\n",
      "\tAccuracy value for training set:  1.0\n",
      "\tAccuract value for testing set:  0.9465278635858149\n",
      "\tRecall value for training set:  1.0\n",
      "\tRecall value for testing set:  0.9389209607298126\n",
      "\tPrecision value for training set:  1.0\n",
      "\tPrecision value for testing set:  0.9377847380410023\n",
      "\tF1 value for training set:  1.0\n",
      "\tF1 value for testing set:  0.9383525054311052\n",
      "\n",
      "\n",
      "\n",
      "Selected 19 features after RFE:\n",
      "\tCustomer Type\n",
      "\tAge\n",
      "\tType of Travel\n",
      "\tFlight Distance\n",
      "\tInflight wifi service\n",
      "\tDeparture/Arrival time convenient\n",
      "\tGate location\n",
      "\tOnline boarding\n",
      "\tSeat comfort\n",
      "\tInflight entertainment\n",
      "\tOn-board service\n",
      "\tLeg room service\n",
      "\tBaggage handling\n",
      "\tCheckin service\n",
      "\tInflight service\n",
      "\tCleanliness\n",
      "\tDeparture Delay in Minutes\n",
      "\tArrival Delay in Minutes\n",
      "\tBusiness\n",
      "\n",
      "\n",
      "DecisionTree performance with selected features:\n",
      "\tAccuracy value for training set:  1.0\n",
      "\tAccuract value for testing set:  0.9467132089460027\n",
      "\tRecall value for training set:  1.0\n",
      "\tRecall value for testing set:  0.9396336683058941\n",
      "\tPrecision value for training set:  1.0\n",
      "\tPrecision value for testing set:  0.9375622244346465\n",
      "\tF1 value for training set:  1.0\n",
      "\tF1 value for testing set:  0.9385968034741751\n",
      "\n",
      "\n",
      "\n",
      "Selected 20 features after RFE:\n",
      "\tCustomer Type\n",
      "\tAge\n",
      "\tType of Travel\n",
      "\tFlight Distance\n",
      "\tInflight wifi service\n",
      "\tDeparture/Arrival time convenient\n",
      "\tGate location\n",
      "\tFood and drink\n",
      "\tOnline boarding\n",
      "\tSeat comfort\n",
      "\tInflight entertainment\n",
      "\tOn-board service\n",
      "\tLeg room service\n",
      "\tBaggage handling\n",
      "\tCheckin service\n",
      "\tInflight service\n",
      "\tCleanliness\n",
      "\tDeparture Delay in Minutes\n",
      "\tArrival Delay in Minutes\n",
      "\tBusiness\n",
      "\n",
      "\n",
      "DecisionTree performance with selected features:\n",
      "\tAccuracy value for training set:  1.0\n",
      "\tAccuract value for testing set:  0.9459100457185222\n",
      "\tRecall value for training set:  1.0\n",
      "\tRecall value for testing set:  0.9390635022450289\n",
      "\tPrecision value for training set:  1.0\n",
      "\tPrecision value for testing set:  0.9363274587833996\n",
      "\tF1 value for training set:  1.0\n",
      "\tF1 value for testing set:  0.9376934846813507\n",
      "\n",
      "\n",
      "\n",
      "Selected 21 features after RFE:\n",
      "\tCustomer Type\n",
      "\tAge\n",
      "\tType of Travel\n",
      "\tFlight Distance\n",
      "\tInflight wifi service\n",
      "\tDeparture/Arrival time convenient\n",
      "\tEase of Online booking\n",
      "\tGate location\n",
      "\tFood and drink\n",
      "\tOnline boarding\n",
      "\tSeat comfort\n",
      "\tInflight entertainment\n",
      "\tOn-board service\n",
      "\tLeg room service\n",
      "\tBaggage handling\n",
      "\tCheckin service\n",
      "\tInflight service\n",
      "\tCleanliness\n",
      "\tDeparture Delay in Minutes\n",
      "\tArrival Delay in Minutes\n",
      "\tBusiness\n",
      "\n",
      "\n",
      "DecisionTree performance with selected features:\n",
      "\tAccuracy value for training set:  1.0\n",
      "\tAccuract value for testing set:  0.9455393549981466\n",
      "\tRecall value for training set:  1.0\n",
      "\tRecall value for testing set:  0.9382795239113392\n",
      "\tPrecision value for training set:  1.0\n",
      "\tPrecision value for testing set:  0.9362110652823211\n",
      "\tF1 value for training set:  1.0\n",
      "\tF1 value for testing set:  0.9372441533478091\n",
      "\n",
      "\n",
      "\n",
      "Selected 22 features after RFE:\n",
      "\tGender\n",
      "\tCustomer Type\n",
      "\tAge\n",
      "\tType of Travel\n",
      "\tFlight Distance\n",
      "\tInflight wifi service\n",
      "\tDeparture/Arrival time convenient\n",
      "\tEase of Online booking\n",
      "\tGate location\n",
      "\tFood and drink\n",
      "\tOnline boarding\n",
      "\tSeat comfort\n",
      "\tInflight entertainment\n",
      "\tOn-board service\n",
      "\tLeg room service\n",
      "\tBaggage handling\n",
      "\tCheckin service\n",
      "\tInflight service\n",
      "\tCleanliness\n",
      "\tDeparture Delay in Minutes\n",
      "\tArrival Delay in Minutes\n",
      "\tBusiness\n",
      "\n",
      "\n",
      "DecisionTree performance with selected features:\n",
      "\tAccuracy value for training set:  1.0\n",
      "\tAccuract value for testing set:  0.946682318052638\n",
      "\tRecall value for training set:  1.0\n",
      "\tRecall value for testing set:  0.9390635022450289\n",
      "\tPrecision value for training set:  1.0\n",
      "\tPrecision value for testing set:  0.9379938776963053\n",
      "\tF1 value for training set:  1.0\n",
      "\tF1 value for testing set:  0.9385283852126219\n",
      "\n",
      "\n",
      "\n",
      "Selected 23 features after RFE:\n",
      "\tGender\n",
      "\tCustomer Type\n",
      "\tAge\n",
      "\tType of Travel\n",
      "\tFlight Distance\n",
      "\tInflight wifi service\n",
      "\tDeparture/Arrival time convenient\n",
      "\tEase of Online booking\n",
      "\tGate location\n",
      "\tFood and drink\n",
      "\tOnline boarding\n",
      "\tSeat comfort\n",
      "\tInflight entertainment\n",
      "\tOn-board service\n",
      "\tLeg room service\n",
      "\tBaggage handling\n",
      "\tCheckin service\n",
      "\tInflight service\n",
      "\tCleanliness\n",
      "\tDeparture Delay in Minutes\n",
      "\tArrival Delay in Minutes\n",
      "\tBusiness\n",
      "\tEco\n",
      "\n",
      "\n",
      "DecisionTree performance with selected features:\n",
      "\tAccuracy value for training set:  1.0\n",
      "\tAccuract value for testing set:  0.9460336092919808\n",
      "\tRecall value for training set:  1.0\n",
      "\tRecall value for testing set:  0.938208253153731\n",
      "\tPrecision value for training set:  1.0\n",
      "\tPrecision value for testing set:  0.9373397892338365\n",
      "\tF1 value for training set:  1.0\n",
      "\tF1 value for testing set:  0.9377738201246661\n",
      "\n",
      "\n",
      "\n",
      "Selected 24 features after RFE:\n",
      "\tGender\n",
      "\tCustomer Type\n",
      "\tAge\n",
      "\tType of Travel\n",
      "\tFlight Distance\n",
      "\tInflight wifi service\n",
      "\tDeparture/Arrival time convenient\n",
      "\tEase of Online booking\n",
      "\tGate location\n",
      "\tFood and drink\n",
      "\tOnline boarding\n",
      "\tSeat comfort\n",
      "\tInflight entertainment\n",
      "\tOn-board service\n",
      "\tLeg room service\n",
      "\tBaggage handling\n",
      "\tCheckin service\n",
      "\tInflight service\n",
      "\tCleanliness\n",
      "\tDeparture Delay in Minutes\n",
      "\tArrival Delay in Minutes\n",
      "\tBusiness\n",
      "\tEco\n",
      "\tEco Plus\n",
      "\n",
      "\n",
      "DecisionTree performance with selected features:\n",
      "\tAccuracy value for training set:  1.0\n",
      "\tAccuract value for testing set:  0.9453849005313234\n",
      "\tRecall value for training set:  1.0\n",
      "\tRecall value for testing set:  0.9378518993656902\n",
      "\tPrecision value for training set:  1.0\n",
      "\tPrecision value for testing set:  0.936250444681608\n",
      "\tF1 value for training set:  1.0\n",
      "\tF1 value for testing set:  0.9370504877875097\n"
     ]
    }
   ],
   "source": [
    "#compare feature number to select most accurate one\n",
    "with warnings.catch_warnings():\n",
    "    warnings.simplefilter(\"ignore\")\n",
    "    for i in range (1, features.columns.size + 1):\n",
    "        RFE_feature_selection(i)\n",
    "    \n",
    "selection_dict = {\"number\":feature_number_list,\"training acc squared\":train_acc_list,\"testing acc squared\":test_acc_list}\n",
    "selection_df = pd.DataFrame(selection_dict)"
   ]
  },
  {
   "cell_type": "code",
   "execution_count": 121,
   "id": "dd321fa0",
   "metadata": {},
   "outputs": [
    {
     "data": {
      "text/plain": [
       "16"
      ]
     },
     "execution_count": 121,
     "metadata": {},
     "output_type": "execute_result"
    }
   ],
   "source": [
    "max_test_acc = max(test_acc_list)\n",
    "best_feature_num = test_acc_list.index(max_test_acc) + 1\n",
    "best_feature_num"
   ]
  },
  {
   "cell_type": "code",
   "execution_count": 122,
   "id": "eaadfd9c",
   "metadata": {},
   "outputs": [
    {
     "name": "stdout",
     "output_type": "stream",
     "text": [
      "\n",
      "\n",
      "\n",
      "Selected 16 features after RFE:\n",
      "\tCustomer Type\n",
      "\tAge\n",
      "\tType of Travel\n",
      "\tFlight Distance\n",
      "\tInflight wifi service\n",
      "\tGate location\n",
      "\tOnline boarding\n",
      "\tSeat comfort\n",
      "\tInflight entertainment\n",
      "\tLeg room service\n",
      "\tBaggage handling\n",
      "\tCheckin service\n",
      "\tInflight service\n",
      "\tCleanliness\n",
      "\tArrival Delay in Minutes\n",
      "\tBusiness\n",
      "\n",
      "\n",
      "DecisionTree performance with selected features:\n",
      "\tAccuracy value for training set:  1.0\n",
      "\tAccuract value for testing set:  0.9471456814531076\n",
      "\tRecall value for training set:  1.0\n",
      "\tRecall value for testing set:  0.940061292851543\n",
      "\tPrecision value for training set:  1.0\n",
      "\tPrecision value for testing set:  0.938122332859175\n",
      "\tF1 value for training set:  1.0\n",
      "\tF1 value for testing set:  0.9390908120038447\n"
     ]
    }
   ],
   "source": [
    "##Select features with features number 16\n",
    "with warnings.catch_warnings():\n",
    "    warnings.simplefilter(\"ignore\")\n",
    "    select = RFE(DecisionTreeClassifier(random_state=3000), n_features_to_select=16)\n",
    "    select.fit(X_train_scaled, y_train)\n",
    "    X_train_selected, X_test_selected = RFE_feature_selection(16)"
   ]
  },
  {
   "cell_type": "code",
   "execution_count": 123,
   "id": "a72c45d7",
   "metadata": {},
   "outputs": [],
   "source": [
    "#Data Visualization"
   ]
  },
  {
   "cell_type": "code",
   "execution_count": 124,
   "id": "4138e6ec",
   "metadata": {},
   "outputs": [],
   "source": [
    "selected_features_name = feature_name_list[15]"
   ]
  },
  {
   "cell_type": "code",
   "execution_count": 125,
   "id": "8ac494d8",
   "metadata": {},
   "outputs": [
    {
     "data": {
      "text/plain": [
       "['Customer Type',\n",
       " 'Age',\n",
       " 'Type of Travel',\n",
       " 'Flight Distance',\n",
       " 'Inflight wifi service',\n",
       " 'Gate location',\n",
       " 'Online boarding',\n",
       " 'Seat comfort',\n",
       " 'Inflight entertainment',\n",
       " 'Leg room service',\n",
       " 'Baggage handling',\n",
       " 'Checkin service',\n",
       " 'Inflight service',\n",
       " 'Cleanliness',\n",
       " 'Arrival Delay in Minutes',\n",
       " 'Business']"
      ]
     },
     "execution_count": 125,
     "metadata": {},
     "output_type": "execute_result"
    }
   ],
   "source": [
    "feature_name_list[15]"
   ]
  },
  {
   "cell_type": "code",
   "execution_count": 126,
   "id": "79002e03",
   "metadata": {},
   "outputs": [],
   "source": [
    "selected_feature_df = features[selected_features_name]"
   ]
  },
  {
   "cell_type": "code",
   "execution_count": 127,
   "id": "0ecbe21b",
   "metadata": {},
   "outputs": [
    {
     "data": {
      "text/html": [
       "<div>\n",
       "<style scoped>\n",
       "    .dataframe tbody tr th:only-of-type {\n",
       "        vertical-align: middle;\n",
       "    }\n",
       "\n",
       "    .dataframe tbody tr th {\n",
       "        vertical-align: top;\n",
       "    }\n",
       "\n",
       "    .dataframe thead th {\n",
       "        text-align: right;\n",
       "    }\n",
       "</style>\n",
       "<table border=\"1\" class=\"dataframe\">\n",
       "  <thead>\n",
       "    <tr style=\"text-align: right;\">\n",
       "      <th></th>\n",
       "      <th>Customer Type</th>\n",
       "      <th>Age</th>\n",
       "      <th>Type of Travel</th>\n",
       "      <th>Flight Distance</th>\n",
       "      <th>Inflight wifi service</th>\n",
       "      <th>Gate location</th>\n",
       "      <th>Online boarding</th>\n",
       "      <th>Seat comfort</th>\n",
       "      <th>Inflight entertainment</th>\n",
       "      <th>Leg room service</th>\n",
       "      <th>Baggage handling</th>\n",
       "      <th>Checkin service</th>\n",
       "      <th>Inflight service</th>\n",
       "      <th>Cleanliness</th>\n",
       "      <th>Arrival Delay in Minutes</th>\n",
       "      <th>Business</th>\n",
       "    </tr>\n",
       "  </thead>\n",
       "  <tbody>\n",
       "    <tr>\n",
       "      <th>0</th>\n",
       "      <td>0</td>\n",
       "      <td>13</td>\n",
       "      <td>0</td>\n",
       "      <td>460</td>\n",
       "      <td>3</td>\n",
       "      <td>1</td>\n",
       "      <td>3</td>\n",
       "      <td>5</td>\n",
       "      <td>5</td>\n",
       "      <td>3</td>\n",
       "      <td>4</td>\n",
       "      <td>4</td>\n",
       "      <td>5</td>\n",
       "      <td>5</td>\n",
       "      <td>18.0</td>\n",
       "      <td>0</td>\n",
       "    </tr>\n",
       "    <tr>\n",
       "      <th>1</th>\n",
       "      <td>1</td>\n",
       "      <td>25</td>\n",
       "      <td>1</td>\n",
       "      <td>235</td>\n",
       "      <td>3</td>\n",
       "      <td>3</td>\n",
       "      <td>3</td>\n",
       "      <td>1</td>\n",
       "      <td>1</td>\n",
       "      <td>5</td>\n",
       "      <td>3</td>\n",
       "      <td>1</td>\n",
       "      <td>4</td>\n",
       "      <td>1</td>\n",
       "      <td>6.0</td>\n",
       "      <td>1</td>\n",
       "    </tr>\n",
       "    <tr>\n",
       "      <th>2</th>\n",
       "      <td>0</td>\n",
       "      <td>26</td>\n",
       "      <td>1</td>\n",
       "      <td>1142</td>\n",
       "      <td>2</td>\n",
       "      <td>2</td>\n",
       "      <td>5</td>\n",
       "      <td>5</td>\n",
       "      <td>5</td>\n",
       "      <td>3</td>\n",
       "      <td>4</td>\n",
       "      <td>4</td>\n",
       "      <td>4</td>\n",
       "      <td>5</td>\n",
       "      <td>0.0</td>\n",
       "      <td>1</td>\n",
       "    </tr>\n",
       "    <tr>\n",
       "      <th>3</th>\n",
       "      <td>0</td>\n",
       "      <td>25</td>\n",
       "      <td>1</td>\n",
       "      <td>562</td>\n",
       "      <td>2</td>\n",
       "      <td>5</td>\n",
       "      <td>2</td>\n",
       "      <td>2</td>\n",
       "      <td>2</td>\n",
       "      <td>5</td>\n",
       "      <td>3</td>\n",
       "      <td>1</td>\n",
       "      <td>4</td>\n",
       "      <td>2</td>\n",
       "      <td>9.0</td>\n",
       "      <td>1</td>\n",
       "    </tr>\n",
       "    <tr>\n",
       "      <th>4</th>\n",
       "      <td>0</td>\n",
       "      <td>61</td>\n",
       "      <td>1</td>\n",
       "      <td>214</td>\n",
       "      <td>3</td>\n",
       "      <td>3</td>\n",
       "      <td>5</td>\n",
       "      <td>5</td>\n",
       "      <td>3</td>\n",
       "      <td>4</td>\n",
       "      <td>4</td>\n",
       "      <td>3</td>\n",
       "      <td>3</td>\n",
       "      <td>3</td>\n",
       "      <td>0.0</td>\n",
       "      <td>1</td>\n",
       "    </tr>\n",
       "  </tbody>\n",
       "</table>\n",
       "</div>"
      ],
      "text/plain": [
       "   Customer Type  Age  Type of Travel  Flight Distance  Inflight wifi service  \\\n",
       "0              0   13               0              460                      3   \n",
       "1              1   25               1              235                      3   \n",
       "2              0   26               1             1142                      2   \n",
       "3              0   25               1              562                      2   \n",
       "4              0   61               1              214                      3   \n",
       "\n",
       "   Gate location  Online boarding  Seat comfort  Inflight entertainment  \\\n",
       "0              1                3             5                       5   \n",
       "1              3                3             1                       1   \n",
       "2              2                5             5                       5   \n",
       "3              5                2             2                       2   \n",
       "4              3                5             5                       3   \n",
       "\n",
       "   Leg room service  Baggage handling  Checkin service  Inflight service  \\\n",
       "0                 3                 4                4                 5   \n",
       "1                 5                 3                1                 4   \n",
       "2                 3                 4                4                 4   \n",
       "3                 5                 3                1                 4   \n",
       "4                 4                 4                3                 3   \n",
       "\n",
       "   Cleanliness  Arrival Delay in Minutes  Business  \n",
       "0            5                      18.0         0  \n",
       "1            1                       6.0         1  \n",
       "2            5                       0.0         1  \n",
       "3            2                       9.0         1  \n",
       "4            3                       0.0         1  "
      ]
     },
     "execution_count": 127,
     "metadata": {},
     "output_type": "execute_result"
    }
   ],
   "source": [
    "selected_feature_df.head()"
   ]
  },
  {
   "cell_type": "markdown",
   "id": "c425181a",
   "metadata": {},
   "source": [
    "## Feature Value Distribution"
   ]
  },
  {
   "cell_type": "code",
   "execution_count": 128,
   "id": "c41161c9",
   "metadata": {},
   "outputs": [
    {
     "data": {
      "text/plain": [
       "satisfaction\n",
       "neutral or dissatisfied    73225\n",
       "satisfied                  56262\n",
       "Name: satisfaction, dtype: int64"
      ]
     },
     "execution_count": 128,
     "metadata": {},
     "output_type": "execute_result"
    }
   ],
   "source": [
    "df.iloc[:,24:25].groupby(['satisfaction'])['satisfaction'].count()"
   ]
  },
  {
   "cell_type": "code",
   "execution_count": 129,
   "id": "8c4ea660",
   "metadata": {},
   "outputs": [
    {
     "data": {
      "text/plain": [
       "<AxesSubplot:ylabel='satisfaction'>"
      ]
     },
     "execution_count": 129,
     "metadata": {},
     "output_type": "execute_result"
    },
    {
     "data": {
      "image/png": "[encoded data removed]",
      "text/plain": [
       "<Figure size 432x288 with 1 Axes>"
      ]
     },
     "metadata": {},
     "output_type": "display_data"
    }
   ],
   "source": [
    "df.iloc[:,24:25].groupby(['satisfaction'])['satisfaction'].count().plot(kind='pie', y='satisfaction')"
   ]
  },
  {
   "cell_type": "code",
   "execution_count": 130,
   "id": "2942284d",
   "metadata": {},
   "outputs": [
    {
     "data": {
      "text/plain": [
       "<AxesSubplot:>"
      ]
     },
     "execution_count": 130,
     "metadata": {},
     "output_type": "execute_result"
    },
    {
     "data": {
      "image/png": "[encoded data removed]",
      "text/plain": [
       "<Figure size 432x288 with 1 Axes>"
      ]
     },
     "metadata": {
      "needs_background": "light"
     },
     "output_type": "display_data"
    }
   ],
   "source": [
    "selected_feature_df.iloc[:, 4:14].boxplot(rot = 90)"
   ]
  },
  {
   "cell_type": "code",
   "execution_count": 131,
   "id": "c4cffe83",
   "metadata": {},
   "outputs": [
    {
     "data": {
      "text/plain": [
       "<AxesSubplot:>"
      ]
     },
     "execution_count": 131,
     "metadata": {},
     "output_type": "execute_result"
    },
    {
     "data": {
      "image/png": "[encoded data removed]",
      "text/plain": [
       "<Figure size 432x288 with 1 Axes>"
      ]
     },
     "metadata": {
      "needs_background": "light"
     },
     "output_type": "display_data"
    }
   ],
   "source": [
    "selected_feature_df.iloc[:, 1:2].boxplot(rot = 90)"
   ]
  },
  {
   "cell_type": "code",
   "execution_count": 132,
   "id": "e265e80a",
   "metadata": {},
   "outputs": [
    {
     "data": {
      "text/plain": [
       "<AxesSubplot:>"
      ]
     },
     "execution_count": 132,
     "metadata": {},
     "output_type": "execute_result"
    },
    {
     "data": {
      "image/png": "[encoded data removed]",
      "text/plain": [
       "<Figure size 432x288 with 1 Axes>"
      ]
     },
     "metadata": {
      "needs_background": "light"
     },
     "output_type": "display_data"
    }
   ],
   "source": [
    "selected_feature_df.iloc[:, 3:4].boxplot(rot = 90)"
   ]
  },
  {
   "cell_type": "code",
   "execution_count": 133,
   "id": "3aa5a5e5",
   "metadata": {},
   "outputs": [
    {
     "data": {
      "text/plain": [
       "array([[<AxesSubplot:title={'center':'Arrival Delay in Minutes'}>]],\n",
       "      dtype=object)"
      ]
     },
     "execution_count": 133,
     "metadata": {},
     "output_type": "execute_result"
    },
    {
     "data": {
      "image/png": "[encoded data removed]",
      "text/plain": [
       "<Figure size 432x288 with 1 Axes>"
      ]
     },
     "metadata": {
      "needs_background": "light"
     },
     "output_type": "display_data"
    }
   ],
   "source": [
    "selected_feature_df.hist(column='Arrival Delay in Minutes', bins=100)"
   ]
  },
  {
   "cell_type": "code",
   "execution_count": 134,
   "id": "ca39b482",
   "metadata": {},
   "outputs": [
    {
     "data": {
      "text/plain": [
       "array([[<AxesSubplot:title={'center':'Age'}>]], dtype=object)"
      ]
     },
     "execution_count": 134,
     "metadata": {},
     "output_type": "execute_result"
    },
    {
     "data": {
      "image/png": "[encoded data removed]",
      "text/plain": [
       "<Figure size 432x288 with 1 Axes>"
      ]
     },
     "metadata": {
      "needs_background": "light"
     },
     "output_type": "display_data"
    }
   ],
   "source": [
    "selected_feature_df.hist(column='Age', bins=50)"
   ]
  },
  {
   "cell_type": "code",
   "execution_count": 135,
   "id": "0105ad00",
   "metadata": {},
   "outputs": [
    {
     "data": {
      "text/plain": [
       "array([[<AxesSubplot:title={'center':'Flight Distance'}>]], dtype=object)"
      ]
     },
     "execution_count": 135,
     "metadata": {},
     "output_type": "execute_result"
    },
    {
     "data": {
      "image/png": "[encoded data removed]",
      "text/plain": [
       "<Figure size 432x288 with 1 Axes>"
      ]
     },
     "metadata": {
      "needs_background": "light"
     },
     "output_type": "display_data"
    }
   ],
   "source": [
    "selected_feature_df.hist(column='Flight Distance', bins=100)"
   ]
  },
  {
   "cell_type": "markdown",
   "id": "cfe43a87",
   "metadata": {},
   "source": [
    "## Initial Model Training"
   ]
  },
  {
   "cell_type": "code",
   "execution_count": 136,
   "id": "d0675370",
   "metadata": {},
   "outputs": [],
   "source": [
    "\n",
    "estimators = {\n",
    "    'Logistic Regression': LogisticRegression(), \n",
    "    'LDA': LinearDiscriminantAnalysis(),\n",
    "    'Support Vector Machine': LinearSVC(C=1.0, dual=True, fit_intercept=True,\n",
    "                          intercept_scaling=1.0, max_iter=1000000,\n",
    "                          random_state=None, tol=0.0001, verbose=0),\n",
    "    'Decision Tree': DecisionTreeClassifier(),\n",
    "    'MLP': MLPClassifier(solver = \"lbfgs\", hidden_layer_sizes = (10), random_state=3000)}\n",
    "scorer = {'accuracy' : make_scorer(accuracy_score), \n",
    "           'precision' : make_scorer(precision_score),\n",
    "           'recall' : make_scorer(recall_score),\n",
    "           'f1': make_scorer(f1_score)}\n",
    "kfold = KFold(n_splits = 5, random_state=3000, shuffle=True)"
   ]
  },
  {
   "cell_type": "code",
   "execution_count": 137,
   "id": "268a7359",
   "metadata": {},
   "outputs": [
    {
     "name": "stdout",
     "output_type": "stream",
     "text": [
      "Logistic Regression:\n",
      "\tAccuracy value for training set:   0.8706379035164495\n",
      "\tAccuracy value for testing set:   0.8709687384159149\n",
      "\tError value for training set:   0.12936209648355046\n",
      "\tError value for testing set:   0.12903126158408507\n",
      "\tPrecision value for training set:   0.8635962547183685\n",
      "\tPrecision value for testing set:   0.8657757980697847\n",
      "\tRecall value for training set:   0.8342923444862779\n",
      "\tRecall value for testing set:   0.8311595752262847\n",
      "\tF1 value for training set:   0.8486914210697468\n",
      "\tF1 value for testing set:   0.8481146140140358\n",
      "\n",
      "\n",
      "Training ROC\n"
     ]
    },
    {
     "data": {
      "image/png": "[encoded data removed]",
      "text/plain": [
       "<Figure size 432x288 with 1 Axes>"
      ]
     },
     "metadata": {
      "needs_background": "light"
     },
     "output_type": "display_data"
    },
    {
     "name": "stdout",
     "output_type": "stream",
     "text": [
      "Testing ROC\n"
     ]
    },
    {
     "data": {
      "image/png": "[encoded data removed]",
      "text/plain": [
       "<Figure size 432x288 with 1 Axes>"
      ]
     },
     "metadata": {
      "needs_background": "light"
     },
     "output_type": "display_data"
    },
    {
     "name": "stdout",
     "output_type": "stream",
     "text": [
      "LDA:\n",
      "\tAccuracy value for training set:   0.8665190753230706\n",
      "\tAccuracy value for testing set:   0.8669529222785123\n",
      "\tError value for training set:   0.1334809246769294\n",
      "\tError value for testing set:   0.13304707772148772\n",
      "\tPrecision value for training set:   0.8527455045075447\n",
      "\tPrecision value for testing set:   0.8543731778425656\n",
      "\tRecall value for training set:   0.8377021619189695\n",
      "\tRecall value for testing set:   0.8354358206827739\n",
      "\tF1 value for training set:   0.8451568976432505\n",
      "\tF1 value for testing set:   0.8447983856437606\n",
      "\n",
      "\n",
      "Training ROC\n"
     ]
    },
    {
     "data": {
      "image/png": "[encoded data removed]",
      "text/plain": [
       "<Figure size 432x288 with 1 Axes>"
      ]
     },
     "metadata": {
      "needs_background": "light"
     },
     "output_type": "display_data"
    },
    {
     "name": "stdout",
     "output_type": "stream",
     "text": [
      "Testing ROC\n"
     ]
    },
    {
     "data": {
      "image/png": "[encoded data removed]",
      "text/plain": [
       "<Figure size 432x288 with 1 Axes>"
      ]
     },
     "metadata": {
      "needs_background": "light"
     },
     "output_type": "display_data"
    },
    {
     "name": "stdout",
     "output_type": "stream",
     "text": [
      "Support Vector Machine:\n",
      "\tAccuracy value for training set:   0.8697935437368068\n",
      "\tAccuracy value for testing set:   0.8702582478685283\n",
      "\tError value for training set:   0.13020645626319316\n",
      "\tError value for testing set:   0.12974175213147165\n",
      "\tPrecision value for training set:   0.862289380877743\n",
      "\tPrecision value for testing set:   0.8649491424753137\n",
      "\tRecall value for training set:   0.8337240415808292\n",
      "\tRecall value for testing set:   0.8303043261349868\n",
      "\tF1 value for training set:   0.8477661534016349\n",
      "\tF1 value for testing set:   0.8472727272727274\n",
      "\n",
      "\n",
      "Training ROC\n"
     ]
    },
    {
     "data": {
      "image/png": "[encoded data removed]",
      "text/plain": [
       "<Figure size 432x288 with 1 Axes>"
      ]
     },
     "metadata": {
      "needs_background": "light"
     },
     "output_type": "display_data"
    },
    {
     "name": "stdout",
     "output_type": "stream",
     "text": [
      "Testing ROC\n"
     ]
    },
    {
     "data": {
      "image/png": "[encoded data removed]",
      "text/plain": [
       "<Figure size 432x288 with 1 Axes>"
      ]
     },
     "metadata": {
      "needs_background": "light"
     },
     "output_type": "display_data"
    },
    {
     "name": "stdout",
     "output_type": "stream",
     "text": [
      "Decision Tree:\n",
      "\tAccuracy value for training set:   1.0\n",
      "\tAccuracy value for testing set:   0.9462189546521685\n",
      "\tError value for training set:   0.0\n",
      "\tError value for testing set:   0.05378104534783146\n",
      "\tPrecision value for training set:   1.0\n",
      "\tPrecision value for testing set:   0.9356920022688598\n",
      "\tRecall value for training set:   1.0\n",
      "\tRecall value for testing set:   0.9405601881548001\n",
      "\tF1 value for training set:   1.0\n",
      "\tF1 value for testing set:   0.9381197796339079\n",
      "\n",
      "\n",
      "Training ROC\n"
     ]
    },
    {
     "data": {
      "image/png": "[encoded data removed]",
      "text/plain": [
       "<Figure size 432x288 with 1 Axes>"
      ]
     },
     "metadata": {
      "needs_background": "light"
     },
     "output_type": "display_data"
    },
    {
     "name": "stdout",
     "output_type": "stream",
     "text": [
      "Testing ROC\n"
     ]
    },
    {
     "data": {
      "image/png": "[encoded data removed]",
      "text/plain": [
       "<Figure size 432x288 with 1 Axes>"
      ]
     },
     "metadata": {
      "needs_background": "light"
     },
     "output_type": "display_data"
    },
    {
     "name": "stdout",
     "output_type": "stream",
     "text": [
      "MLP:\n",
      "\tAccuracy value for training set:   0.952386346084539\n",
      "\tAccuracy value for testing set:   0.9516248609909799\n",
      "\tError value for training set:   0.04761365391546102\n",
      "\tError value for testing set:   0.04837513900902013\n",
      "\tPrecision value for training set:   0.9556988100719773\n",
      "\tPrecision value for testing set:   0.9554922166191625\n",
      "\tRecall value for training set:   0.9337927115152376\n",
      "\tRecall value for testing set:   0.9317938849689972\n",
      "\tF1 value for training set:   0.9446187750017966\n",
      "\tF1 value for testing set:   0.9434942628274519\n",
      "\n",
      "\n",
      "Training ROC\n"
     ]
    },
    {
     "data": {
      "image/png": "[encoded data removed]",
      "text/plain": [
       "<Figure size 432x288 with 1 Axes>"
      ]
     },
     "metadata": {
      "needs_background": "light"
     },
     "output_type": "display_data"
    },
    {
     "name": "stdout",
     "output_type": "stream",
     "text": [
      "Testing ROC\n"
     ]
    },
    {
     "data": {
      "image/png": "[encoded data removed]",
      "text/plain": [
       "<Figure size 432x288 with 1 Axes>"
      ]
     },
     "metadata": {
      "needs_background": "light"
     },
     "output_type": "display_data"
    }
   ],
   "source": [
    "model_name = []\n",
    "model_train_acc = []\n",
    "model_test_acc = []\n",
    "model_train_precision = []\n",
    "model_test_precision = []\n",
    "model_train_recall = []\n",
    "model_test_recall = []\n",
    "model_train_f1 = []\n",
    "model_test_f1 = []\n",
    "with warnings.catch_warnings():\n",
    "    warnings.simplefilter(\"ignore\")\n",
    "    for estimator_name, estimator_object in estimators.items():\n",
    "        \n",
    "        model_name.append(estimator_name[0:4])\n",
    "        model = estimator_object.fit(X=X_train_selected, y=y_train)\n",
    "        model_selection_prediction_train  = model.predict(X_train_selected)\n",
    "        model_selection_prediction_test  = model.predict(X_test_selected)\n",
    "        \n",
    "        acc_score_train = accuracy_score(y_train, model_selection_prediction_train)\n",
    "        acc_score_test = accuracy_score(y_test, model_selection_prediction_test)\n",
    "        precision_score_train = precision_score(y_train, model_selection_prediction_train)\n",
    "        precision_score_test = precision_score(y_test, model_selection_prediction_test)\n",
    "        recall_score_train = recall_score(y_train, model_selection_prediction_train)\n",
    "        recall_score_test = recall_score(y_test, model_selection_prediction_test)\n",
    "        f1_score_train = f1_score(y_train, model_selection_prediction_train)\n",
    "        f1_score_test = f1_score(y_test, model_selection_prediction_test)\n",
    "        \n",
    "        model_train_acc.append(acc_score_train)\n",
    "        model_test_acc.append(acc_score_test)\n",
    "        model_train_precision.append(precision_score_train)\n",
    "        model_test_precision.append(precision_score_test)\n",
    "        model_train_recall.append(recall_score_train)\n",
    "        model_test_recall.append(recall_score_test)\n",
    "        model_train_f1.append(f1_score_train)\n",
    "        model_test_f1.append(f1_score_test)\n",
    "        \n",
    "    \n",
    "        print(estimator_name+\":\")\n",
    "        print(\"\\t\" + \"Accuracy value for training set:  \", acc_score_train)\n",
    "        print(\"\\t\" + \"Accuracy value for testing set:  \", acc_score_test)\n",
    "        print(\"\\t\" + \"Error value for training set:  \", 1 - acc_score_train)\n",
    "        print(\"\\t\" + \"Error value for testing set:  \", 1 - acc_score_test)\n",
    "        print(\"\\t\" + \"Precision value for training set:  \", precision_score_train)\n",
    "        print(\"\\t\" + \"Precision value for testing set:  \", precision_score_test)\n",
    "        print(\"\\t\" + \"Recall value for training set:  \", recall_score_train)\n",
    "        print(\"\\t\" + \"Recall value for testing set:  \", recall_score_test)\n",
    "        print(\"\\t\" + \"F1 value for training set:  \", f1_score_train)\n",
    "        print(\"\\t\" + \"F1 value for testing set:  \", f1_score_test)\n",
    "        print(\"\\n\")\n",
    "        print(\"Training ROC\")\n",
    "        metrics.plot_roc_curve(model, X_train_selected, y_train) \n",
    "        plt.show()\n",
    "        print(\"Testing ROC\")\n",
    "        metrics.plot_roc_curve(model, X_test_selected, y_test) \n",
    "        plt.show()"
   ]
  },
  {
   "cell_type": "markdown",
   "id": "b353effa",
   "metadata": {},
   "source": [
    "## Simple Model Prameter Tuning"
   ]
  },
  {
   "cell_type": "code",
   "execution_count": 138,
   "id": "a089b733",
   "metadata": {},
   "outputs": [
    {
     "name": "stderr",
     "output_type": "stream",
     "text": [
      "F:\\Anaconda\\Anaconda\\lib\\site-packages\\sklearn\\utils\\validation.py:63: DataConversionWarning: A column-vector y was passed when a 1d array was expected. Please change the shape of y to (n_samples, ), for example using ravel().\n",
      "  return f(*args, **kwargs)\n"
     ]
    },
    {
     "data": {
      "text/plain": [
       "GridSearchCV(cv=3, estimator=MLPClassifier(), n_jobs=-1,\n",
       "             param_grid={'activation': ['tanh', 'relu'],\n",
       "                         'alpha': [0.0001, 0.05],\n",
       "                         'max_iter': [100, 500, 1000]})"
      ]
     },
     "execution_count": 138,
     "metadata": {},
     "output_type": "execute_result"
    }
   ],
   "source": [
    "#MLP\n",
    "parameter_space = {\n",
    "    'activation': ['tanh', 'relu'],\n",
    "    'alpha': [0.0001, 0.05],\n",
    "    'max_iter': [100, 500, 1000]\n",
    "}\n",
    "mlp = MLPClassifier()\n",
    "clf = GridSearchCV(mlp, parameter_space, n_jobs=-1, cv=3)\n",
    "clf.fit(X_train_selected, y_train)"
   ]
  },
  {
   "cell_type": "code",
   "execution_count": 139,
   "id": "4308e44e",
   "metadata": {},
   "outputs": [
    {
     "data": {
      "text/plain": [
       "{'activation': 'tanh', 'alpha': 0.05, 'max_iter': 1000}"
      ]
     },
     "execution_count": 139,
     "metadata": {},
     "output_type": "execute_result"
    }
   ],
   "source": [
    "clf.best_params_"
   ]
  },
  {
   "cell_type": "code",
   "execution_count": 140,
   "id": "3782b06c",
   "metadata": {},
   "outputs": [
    {
     "name": "stdout",
     "output_type": "stream",
     "text": [
      "\tAccuracy value for training set:   0.9624362868763837\n",
      "\tAccuracy value for testing set:   0.9587915482515754\n",
      "\tError value for training set:   0.03756371312361628\n",
      "\tError value for testing set:   0.04120845174842458\n",
      "\tPrecision value for training set:   0.9750080023637752\n",
      "\tPrecision value for testing set:   0.9699459619512917\n",
      "\tRecall value for training set:   0.9376524354147427\n",
      "\tRecall value for testing set:   0.9338607369396337\n",
      "\tF1 value for training set:   0.9559654289990825\n",
      "\tF1 value for testing set:   0.9515613652868553\n",
      "Training ROC\n"
     ]
    },
    {
     "data": {
      "image/png": "[encoded data removed]",
      "text/plain": [
       "<Figure size 432x288 with 1 Axes>"
      ]
     },
     "metadata": {
      "needs_background": "light"
     },
     "output_type": "display_data"
    },
    {
     "name": "stdout",
     "output_type": "stream",
     "text": [
      "Testing ROC\n"
     ]
    },
    {
     "data": {
      "image/png": "[encoded data removed]",
      "text/plain": [
       "<Figure size 432x288 with 1 Axes>"
      ]
     },
     "metadata": {
      "needs_background": "light"
     },
     "output_type": "display_data"
    }
   ],
   "source": [
    "model_selection_prediction_train_clf  = clf.predict(X_train_selected)\n",
    "model_selection_prediction_test_clf  = clf.predict(X_test_selected)\n",
    "\n",
    "acc_score_train_clf = accuracy_score(y_train, model_selection_prediction_train_clf)\n",
    "acc_score_test_clf = accuracy_score(y_test, model_selection_prediction_test_clf)\n",
    "precision_score_train_clf = precision_score(y_train, model_selection_prediction_train_clf)\n",
    "precision_score_test_clf = precision_score(y_test, model_selection_prediction_test_clf)\n",
    "recall_score_train_clf = recall_score(y_train, model_selection_prediction_train_clf)\n",
    "recall_score_test_clf = recall_score(y_test, model_selection_prediction_test_clf)\n",
    "f1_score_train_clf = f1_score(y_train, model_selection_prediction_train_clf)\n",
    "f1_score_test_clf = f1_score(y_test, model_selection_prediction_test_clf)\n",
    "print(\"\\t\" + \"Accuracy value for training set:  \", acc_score_train_clf)\n",
    "print(\"\\t\" + \"Accuracy value for testing set:  \", acc_score_test_clf)\n",
    "print(\"\\t\" + \"Error value for training set:  \", 1 - acc_score_train_clf)\n",
    "print(\"\\t\" + \"Error value for testing set:  \", 1 - acc_score_test_clf)\n",
    "print(\"\\t\" + \"Precision value for training set:  \", precision_score_train_clf)\n",
    "print(\"\\t\" + \"Precision value for testing set:  \", precision_score_test_clf)\n",
    "print(\"\\t\" + \"Recall value for training set:  \", recall_score_train_clf)\n",
    "print(\"\\t\" + \"Recall value for testing set:  \", recall_score_test_clf)\n",
    "print(\"\\t\" + \"F1 value for training set:  \", f1_score_train_clf)\n",
    "print(\"\\t\" + \"F1 value for testing set:  \", f1_score_test_clf)\n",
    "print(\"Training ROC\")\n",
    "metrics.plot_roc_curve(clf, X_train_selected, y_train) \n",
    "plt.show()\n",
    "print(\"Testing ROC\")\n",
    "metrics.plot_roc_curve(clf, X_test_selected, y_test) \n",
    "plt.show()"
   ]
  },
  {
   "cell_type": "markdown",
   "id": "5be99b79",
   "metadata": {},
   "source": [
    "## Cross Validation"
   ]
  },
  {
   "cell_type": "code",
   "execution_count": 141,
   "id": "ed76e2e6",
   "metadata": {},
   "outputs": [
    {
     "name": "stdout",
     "output_type": "stream",
     "text": [
      "Logistic Regression:\n",
      "\tAccuracy value for testing set:   0.8704010708953301\n",
      "\tPrecision value for testing set:   0.8634726532533126\n",
      "\tRecall value for testing set:   0.833775994377729\n",
      "\tF1 value for testing set:   0.8483609239155037\n",
      "LDA:\n",
      "\tAccuracy value for testing set:   0.8664058075477528\n",
      "\tPrecision value for testing set:   0.852734554130859\n",
      "\tRecall value for testing set:   0.8373831846773404\n",
      "\tF1 value for testing set:   0.8449877041985069\n",
      "Support Vector Machine:\n",
      "\tAccuracy value for testing set:   0.8696699788910054\n",
      "\tPrecision value for testing set:   0.8621760811238877\n",
      "\tRecall value for testing set:   0.8335205745203205\n",
      "\tF1 value for testing set:   0.8476029570160069\n",
      "Decision Tree:\n",
      "\tAccuracy value for testing set:   0.9452916645214436\n",
      "\tPrecision value for testing set:   0.9359472901996998\n",
      "\tRecall value for testing set:   0.9384497478475631\n",
      "\tF1 value for testing set:   0.9371846401711345\n",
      "MLP:\n",
      "\tAccuracy value for testing set:   0.9516243628687638\n",
      "\tPrecision value for testing set:   0.9549106250239776\n",
      "\tRecall value for testing set:   0.9328150542254617\n",
      "\tF1 value for testing set:   0.9437287208274183\n"
     ]
    }
   ],
   "source": [
    "score_name = ['accuracy', 'precision', 'recall', 'f1']\n",
    "cv_df_test = pd.DataFrame(columns = score_name, index = estimators.keys())\n",
    "cv_df_train = pd.DataFrame(columns = score_name, index = estimators.keys())\n",
    "\n",
    "with warnings.catch_warnings():\n",
    "    warnings.simplefilter(\"ignore\")\n",
    "    for estimator_name, estimator_object in estimators.items():\n",
    "        \n",
    "        results = cross_validate(estimator=estimator_object, X=X_train_selected, y=y_train, cv=kfold, scoring=scorer)\n",
    "\n",
    "        ##acc_score_train = results['train_accuracy'].mean()\n",
    "        acc_score_test = results['test_accuracy'].mean()\n",
    "        ##precision_score_train = results['train_precision'].mean()\n",
    "        precision_score_test = results['test_precision'].mean()\n",
    "        ##recall_score_train = results['train_recall'].mean()\n",
    "        recall_score_test = results['test_recall'].mean()\n",
    "        ##f1_score_train = results['train_f1'].mean()\n",
    "        f1_score_test = results['test_f1'].mean()\n",
    "        \n",
    "        ##cv_df_train.loc[estimator_name, 'accuracy'] = acc_score_train\n",
    "        ##cv_df_train.loc[estimator_name, 'precision'] = precision_score_train\n",
    "        ##cv_df_train.loc[estimator_name, 'recall'] = recall_score_train\n",
    "        ##cv_df_train.loc[estimator_name, 'f1'] = 1 - f1_score_train\n",
    "        \n",
    "        cv_df_test.loc[estimator_name, 'accuracy'] = acc_score_test\n",
    "        cv_df_test.loc[estimator_name, 'precision'] = precision_score_test\n",
    "        cv_df_test.loc[estimator_name, 'recall'] = recall_score_test\n",
    "        cv_df_test.loc[estimator_name, 'f1'] = 1 - f1_score_test\n",
    "    \n",
    "        \n",
    "        print(estimator_name+\":\")\n",
    "        ##print(\"\\t\" + \"Accuracy value for training set:  \", acc_score_train)\n",
    "        print(\"\\t\" + \"Accuracy value for testing set:  \", acc_score_test)\n",
    "        ##print(\"\\t\" + \"Precision value for training set:  \", precision_score_train)\n",
    "        print(\"\\t\" + \"Precision value for testing set:  \", precision_score_test)\n",
    "        ##print(\"\\t\" + \"Recall value for training set:  \", recall_score_train)\n",
    "        print(\"\\t\" + \"Recall value for testing set:  \", recall_score_test)\n",
    "        ##print(\"\\t\" + \"F1 value for training set:  \", f1_score_train)\n",
    "        print(\"\\t\" + \"F1 value for testing set:  \", f1_score_test)\n",
    "        "
   ]
  },
  {
   "cell_type": "markdown",
   "id": "7df99292",
   "metadata": {},
   "source": [
    "## Random Forest (with Hyperparameter Tuning)"
   ]
  },
  {
   "cell_type": "code",
   "execution_count": 142,
   "id": "514b86d8",
   "metadata": {},
   "outputs": [
    {
     "name": "stderr",
     "output_type": "stream",
     "text": [
      "C:\\Users\\socra\\AppData\\Local\\Temp/ipykernel_19996/938487311.py:8: DataConversionWarning: A column-vector y was passed when a 1d array was expected. Please change the shape of y to (n_samples,), for example using ravel().\n",
      "  random_forest = random_forest.fit(X=X_train_selected, y=y_train)\n"
     ]
    },
    {
     "name": "stdout",
     "output_type": "stream",
     "text": [
      "For t =  10\n",
      "\n",
      "\n",
      "Training ROC\n"
     ]
    },
    {
     "data": {
      "image/png": "[encoded data removed]",
      "text/plain": [
       "<Figure size 432x288 with 1 Axes>"
      ]
     },
     "metadata": {
      "needs_background": "light"
     },
     "output_type": "display_data"
    },
    {
     "name": "stdout",
     "output_type": "stream",
     "text": [
      "Testing ROC\n"
     ]
    },
    {
     "data": {
      "image/png": "[encoded data removed]",
      "text/plain": [
       "<Figure size 432x288 with 1 Axes>"
      ]
     },
     "metadata": {
      "needs_background": "light"
     },
     "output_type": "display_data"
    },
    {
     "name": "stderr",
     "output_type": "stream",
     "text": [
      "C:\\Users\\socra\\AppData\\Local\\Temp/ipykernel_19996/938487311.py:8: DataConversionWarning: A column-vector y was passed when a 1d array was expected. Please change the shape of y to (n_samples,), for example using ravel().\n",
      "  random_forest = random_forest.fit(X=X_train_selected, y=y_train)\n"
     ]
    },
    {
     "name": "stdout",
     "output_type": "stream",
     "text": [
      "For t =  50\n",
      "\n",
      "\n",
      "Training ROC\n"
     ]
    },
    {
     "data": {
      "image/png": "[encoded data removed]",
      "text/plain": [
       "<Figure size 432x288 with 1 Axes>"
      ]
     },
     "metadata": {
      "needs_background": "light"
     },
     "output_type": "display_data"
    },
    {
     "name": "stdout",
     "output_type": "stream",
     "text": [
      "Testing ROC\n"
     ]
    },
    {
     "data": {
      "image/png": "[encoded data removed]",
      "text/plain": [
       "<Figure size 432x288 with 1 Axes>"
      ]
     },
     "metadata": {
      "needs_background": "light"
     },
     "output_type": "display_data"
    },
    {
     "name": "stderr",
     "output_type": "stream",
     "text": [
      "C:\\Users\\socra\\AppData\\Local\\Temp/ipykernel_19996/938487311.py:8: DataConversionWarning: A column-vector y was passed when a 1d array was expected. Please change the shape of y to (n_samples,), for example using ravel().\n",
      "  random_forest = random_forest.fit(X=X_train_selected, y=y_train)\n"
     ]
    },
    {
     "name": "stdout",
     "output_type": "stream",
     "text": [
      "For t =  100\n",
      "\n",
      "\n",
      "Training ROC\n"
     ]
    },
    {
     "data": {
      "image/png": "[encoded data removed]",
      "text/plain": [
       "<Figure size 432x288 with 1 Axes>"
      ]
     },
     "metadata": {
      "needs_background": "light"
     },
     "output_type": "display_data"
    },
    {
     "name": "stdout",
     "output_type": "stream",
     "text": [
      "Testing ROC\n"
     ]
    },
    {
     "data": {
      "image/png": "[encoded data removed]",
      "text/plain": [
       "<Figure size 432x288 with 1 Axes>"
      ]
     },
     "metadata": {
      "needs_background": "light"
     },
     "output_type": "display_data"
    },
    {
     "name": "stderr",
     "output_type": "stream",
     "text": [
      "C:\\Users\\socra\\AppData\\Local\\Temp/ipykernel_19996/938487311.py:8: DataConversionWarning: A column-vector y was passed when a 1d array was expected. Please change the shape of y to (n_samples,), for example using ravel().\n",
      "  random_forest = random_forest.fit(X=X_train_selected, y=y_train)\n"
     ]
    },
    {
     "name": "stdout",
     "output_type": "stream",
     "text": [
      "For t =  500\n",
      "\n",
      "\n",
      "Training ROC\n"
     ]
    },
    {
     "data": {
      "image/png": "[encoded data removed]",
      "text/plain": [
       "<Figure size 432x288 with 1 Axes>"
      ]
     },
     "metadata": {
      "needs_background": "light"
     },
     "output_type": "display_data"
    },
    {
     "name": "stdout",
     "output_type": "stream",
     "text": [
      "Testing ROC\n"
     ]
    },
    {
     "data": {
      "image/png": "[encoded data removed]",
      "text/plain": [
       "<Figure size 432x288 with 1 Axes>"
      ]
     },
     "metadata": {
      "needs_background": "light"
     },
     "output_type": "display_data"
    }
   ],
   "source": [
    "t_range = [10,50,100,500]\n",
    "score_name = ['accuracy', 'error', 'precision', 'recall', 'f1', 'auc']\n",
    "train_random_forest_df = pd.DataFrame(columns = score_name, index = t_range)\n",
    "test_random_forest_df = pd.DataFrame(columns = score_name, index = t_range)\n",
    "\n",
    "for i in t_range:\n",
    "    random_forest = RandomForestClassifier(n_estimators = i)\n",
    "    random_forest = random_forest.fit(X=X_train_selected, y=y_train)\n",
    "    \n",
    "    train_predict = random_forest.predict(X_train_selected)\n",
    "    test_predict = random_forest.predict(X_test_selected)\n",
    "    \n",
    "    acc_train = accuracy_score(y_train, train_predict)\n",
    "    acc_test = accuracy_score(y_test, test_predict)\n",
    "    \n",
    "    precision_train = precision_score(y_train, train_predict)\n",
    "    precision_test = precision_score(y_test, test_predict)\n",
    "    \n",
    "    recall_train = recall_score(y_train, train_predict)\n",
    "    recall_test = recall_score(y_test, test_predict)\n",
    "    \n",
    "    train_random_forest_df.loc[i, 'accuracy'] = acc_train\n",
    "    train_random_forest_df.loc[i, 'error'] = 1 - acc_train\n",
    "    train_random_forest_df.loc[i, 'precision'] = precision_train\n",
    "    train_random_forest_df.loc[i, 'recall'] = recall_train\n",
    "    train_random_forest_df.loc[i, 'f1'] = f1_score(y_train, train_predict)\n",
    "    train_random_forest_df.loc[i, 'auc'] = roc_auc_score(y_train, train_predict)\n",
    "    \n",
    "    test_random_forest_df.loc[i, 'accuracy'] = acc_test\n",
    "    test_random_forest_df.loc[i, 'error'] = 1 - acc_test\n",
    "    test_random_forest_df.loc[i, 'precision'] = precision_test\n",
    "    test_random_forest_df.loc[i, 'recall'] = recall_test\n",
    "    test_random_forest_df.loc[i, 'f1'] = f1_score(y_test, test_predict)\n",
    "    test_random_forest_df.loc[i, 'auc'] = roc_auc_score(y_test, test_predict)\n",
    "    print(\"For t = \", i)\n",
    "    print(\"\\n\")\n",
    "    print(\"Training ROC\")\n",
    "    metrics.plot_roc_curve(random_forest, X_train_selected, y_train) \n",
    "    plt.show()\n",
    "    print(\"Testing ROC\")\n",
    "    metrics.plot_roc_curve(random_forest, X_test_selected, y_test) \n",
    "    plt.show()"
   ]
  },
  {
   "cell_type": "code",
   "execution_count": 143,
   "id": "cb513f7f",
   "metadata": {},
   "outputs": [
    {
     "data": {
      "text/html": [
       "<div>\n",
       "<style scoped>\n",
       "    .dataframe tbody tr th:only-of-type {\n",
       "        vertical-align: middle;\n",
       "    }\n",
       "\n",
       "    .dataframe tbody tr th {\n",
       "        vertical-align: top;\n",
       "    }\n",
       "\n",
       "    .dataframe thead th {\n",
       "        text-align: right;\n",
       "    }\n",
       "</style>\n",
       "<table border=\"1\" class=\"dataframe\">\n",
       "  <thead>\n",
       "    <tr style=\"text-align: right;\">\n",
       "      <th></th>\n",
       "      <th>accuracy</th>\n",
       "      <th>error</th>\n",
       "      <th>precision</th>\n",
       "      <th>recall</th>\n",
       "      <th>f1</th>\n",
       "      <th>auc</th>\n",
       "    </tr>\n",
       "  </thead>\n",
       "  <tbody>\n",
       "    <tr>\n",
       "      <th>10</th>\n",
       "      <td>0.958884</td>\n",
       "      <td>0.041116</td>\n",
       "      <td>0.97233</td>\n",
       "      <td>0.931651</td>\n",
       "      <td>0.951556</td>\n",
       "      <td>0.955684</td>\n",
       "    </tr>\n",
       "    <tr>\n",
       "      <th>50</th>\n",
       "      <td>0.962406</td>\n",
       "      <td>0.037594</td>\n",
       "      <td>0.975297</td>\n",
       "      <td>0.936997</td>\n",
       "      <td>0.955763</td>\n",
       "      <td>0.95942</td>\n",
       "    </tr>\n",
       "    <tr>\n",
       "      <th>100</th>\n",
       "      <td>0.961942</td>\n",
       "      <td>0.038058</td>\n",
       "      <td>0.972532</td>\n",
       "      <td>0.938707</td>\n",
       "      <td>0.95532</td>\n",
       "      <td>0.959212</td>\n",
       "    </tr>\n",
       "    <tr>\n",
       "      <th>500</th>\n",
       "      <td>0.962313</td>\n",
       "      <td>0.037687</td>\n",
       "      <td>0.973324</td>\n",
       "      <td>0.938778</td>\n",
       "      <td>0.955739</td>\n",
       "      <td>0.959548</td>\n",
       "    </tr>\n",
       "  </tbody>\n",
       "</table>\n",
       "</div>"
      ],
      "text/plain": [
       "     accuracy     error precision    recall        f1       auc\n",
       "10   0.958884  0.041116   0.97233  0.931651  0.951556  0.955684\n",
       "50   0.962406  0.037594  0.975297  0.936997  0.955763   0.95942\n",
       "100  0.961942  0.038058  0.972532  0.938707   0.95532  0.959212\n",
       "500  0.962313  0.037687  0.973324  0.938778  0.955739  0.959548"
      ]
     },
     "execution_count": 143,
     "metadata": {},
     "output_type": "execute_result"
    }
   ],
   "source": [
    "test_random_forest_df"
   ]
  },
  {
   "cell_type": "code",
   "execution_count": 144,
   "id": "5e4075f3",
   "metadata": {
    "scrolled": true
   },
   "outputs": [
    {
     "data": {
      "text/html": [
       "<div>\n",
       "<style scoped>\n",
       "    .dataframe tbody tr th:only-of-type {\n",
       "        vertical-align: middle;\n",
       "    }\n",
       "\n",
       "    .dataframe tbody tr th {\n",
       "        vertical-align: top;\n",
       "    }\n",
       "\n",
       "    .dataframe thead th {\n",
       "        text-align: right;\n",
       "    }\n",
       "</style>\n",
       "<table border=\"1\" class=\"dataframe\">\n",
       "  <thead>\n",
       "    <tr style=\"text-align: right;\">\n",
       "      <th></th>\n",
       "      <th>accuracy</th>\n",
       "      <th>error</th>\n",
       "      <th>precision</th>\n",
       "      <th>recall</th>\n",
       "      <th>f1</th>\n",
       "      <th>auc</th>\n",
       "    </tr>\n",
       "  </thead>\n",
       "  <tbody>\n",
       "    <tr>\n",
       "      <th>10</th>\n",
       "      <td>0.996386</td>\n",
       "      <td>0.003614</td>\n",
       "      <td>0.999261</td>\n",
       "      <td>0.992423</td>\n",
       "      <td>0.99583</td>\n",
       "      <td>0.995929</td>\n",
       "    </tr>\n",
       "    <tr>\n",
       "      <th>50</th>\n",
       "      <td>0.999907</td>\n",
       "      <td>0.000093</td>\n",
       "      <td>1.0</td>\n",
       "      <td>0.999787</td>\n",
       "      <td>0.999893</td>\n",
       "      <td>0.999893</td>\n",
       "    </tr>\n",
       "    <tr>\n",
       "      <th>100</th>\n",
       "      <td>0.99999</td>\n",
       "      <td>0.00001</td>\n",
       "      <td>1.0</td>\n",
       "      <td>0.999976</td>\n",
       "      <td>0.999988</td>\n",
       "      <td>0.999988</td>\n",
       "    </tr>\n",
       "    <tr>\n",
       "      <th>500</th>\n",
       "      <td>1.0</td>\n",
       "      <td>0.0</td>\n",
       "      <td>1.0</td>\n",
       "      <td>1.0</td>\n",
       "      <td>1.0</td>\n",
       "      <td>1.0</td>\n",
       "    </tr>\n",
       "  </tbody>\n",
       "</table>\n",
       "</div>"
      ],
      "text/plain": [
       "     accuracy     error precision    recall        f1       auc\n",
       "10   0.996386  0.003614  0.999261  0.992423   0.99583  0.995929\n",
       "50   0.999907  0.000093       1.0  0.999787  0.999893  0.999893\n",
       "100   0.99999   0.00001       1.0  0.999976  0.999988  0.999988\n",
       "500       1.0       0.0       1.0       1.0       1.0       1.0"
      ]
     },
     "execution_count": 144,
     "metadata": {},
     "output_type": "execute_result"
    }
   ],
   "source": [
    "train_random_forest_df"
   ]
  },
  {
   "cell_type": "code",
   "execution_count": 145,
   "id": "60c408b3",
   "metadata": {},
   "outputs": [
    {
     "data": {
      "image/png": "[encoded data removed]",
      "text/plain": [
       "<Figure size 2160x720 with 1 Axes>"
      ]
     },
     "metadata": {
      "needs_background": "light"
     },
     "output_type": "display_data"
    }
   ],
   "source": [
    "##Feature Importance\n",
    "importance = random_forest.feature_importances_\n",
    "\n",
    "features_sorted = []\n",
    "importance_sorted = []\n",
    "\n",
    "for i in range(0, 16):\n",
    "    sort_dict[feature_name_list[15][i]] = importance[i]\n",
    "\n",
    "sort_dict = dict(sorted(sort_dict.items(), key=lambda item: item[1]))\n",
    "\n",
    "plt.figure(figsize=(30, 10))\n",
    "plt.bar([*sort_dict.keys()], [*sort_dict.values()])\n",
    "plt.xlabel(\"Features\")\n",
    "plt.ylabel(\"Importance\")\n",
    "plt.xticks(rotation=90)\n",
    "plt.title(\"Variable Importance\")\n",
    "plt.show()"
   ]
  },
  {
   "cell_type": "markdown",
   "id": "cc2f314c",
   "metadata": {},
   "source": [
    "## Adaboost"
   ]
  },
  {
   "cell_type": "code",
   "execution_count": 146,
   "id": "33385a2d",
   "metadata": {},
   "outputs": [
    {
     "name": "stdout",
     "output_type": "stream",
     "text": [
      "For estimator Logistic Regression\n"
     ]
    },
    {
     "name": "stderr",
     "output_type": "stream",
     "text": [
      "\r",
      "  0%|          | 0/3 [00:00<?, ?it/s]"
     ]
    },
    {
     "name": "stdout",
     "output_type": "stream",
     "text": [
      "For model number  10\n",
      "Training ROC\n"
     ]
    },
    {
     "data": {
      "image/png": "[encoded data removed]",
      "text/plain": [
       "<Figure size 432x288 with 1 Axes>"
      ]
     },
     "metadata": {
      "needs_background": "light"
     },
     "output_type": "display_data"
    },
    {
     "name": "stdout",
     "output_type": "stream",
     "text": [
      "Testing ROC\n"
     ]
    },
    {
     "data": {
      "image/png": "[encoded data removed]",
      "text/plain": [
       "<Figure size 432x288 with 1 Axes>"
      ]
     },
     "metadata": {
      "needs_background": "light"
     },
     "output_type": "display_data"
    },
    {
     "name": "stderr",
     "output_type": "stream",
     "text": [
      "\r",
      " 33%|███▎      | 1/3 [00:01<00:02,  1.08s/it]"
     ]
    },
    {
     "name": "stdout",
     "output_type": "stream",
     "text": [
      "For model number  300\n",
      "Training ROC\n"
     ]
    },
    {
     "data": {
      "image/png": "[encoded data removed]",
      "text/plain": [
       "<Figure size 432x288 with 1 Axes>"
      ]
     },
     "metadata": {
      "needs_background": "light"
     },
     "output_type": "display_data"
    },
    {
     "name": "stdout",
     "output_type": "stream",
     "text": [
      "Testing ROC\n"
     ]
    },
    {
     "data": {
      "image/png": "[encoded data removed]",
      "text/plain": [
       "<Figure size 432x288 with 1 Axes>"
      ]
     },
     "metadata": {
      "needs_background": "light"
     },
     "output_type": "display_data"
    },
    {
     "name": "stderr",
     "output_type": "stream",
     "text": [
      "\r",
      " 67%|██████▋   | 2/3 [00:16<00:09,  9.30s/it]"
     ]
    },
    {
     "name": "stdout",
     "output_type": "stream",
     "text": [
      "For model number  1000\n",
      "Training ROC\n"
     ]
    },
    {
     "data": {
      "image/png": "[encoded data removed]",
      "text/plain": [
       "<Figure size 432x288 with 1 Axes>"
      ]
     },
     "metadata": {
      "needs_background": "light"
     },
     "output_type": "display_data"
    },
    {
     "name": "stdout",
     "output_type": "stream",
     "text": [
      "Testing ROC\n"
     ]
    },
    {
     "data": {
      "image/png": "[encoded data removed]",
      "text/plain": [
       "<Figure size 432x288 with 1 Axes>"
      ]
     },
     "metadata": {
      "needs_background": "light"
     },
     "output_type": "display_data"
    },
    {
     "name": "stderr",
     "output_type": "stream",
     "text": [
      "100%|██████████| 3/3 [01:02<00:00, 20.98s/it]\n"
     ]
    },
    {
     "name": "stdout",
     "output_type": "stream",
     "text": [
      "For estimator Decision Tree Stump\n"
     ]
    },
    {
     "name": "stderr",
     "output_type": "stream",
     "text": [
      "\r",
      "  0%|          | 0/3 [00:00<?, ?it/s]"
     ]
    },
    {
     "name": "stdout",
     "output_type": "stream",
     "text": [
      "For model number  10\n",
      "Training ROC\n"
     ]
    },
    {
     "data": {
      "image/png": "[encoded data removed]",
      "text/plain": [
       "<Figure size 432x288 with 1 Axes>"
      ]
     },
     "metadata": {
      "needs_background": "light"
     },
     "output_type": "display_data"
    },
    {
     "name": "stdout",
     "output_type": "stream",
     "text": [
      "Testing ROC\n"
     ]
    },
    {
     "data": {
      "image/png": "[encoded data removed]",
      "text/plain": [
       "<Figure size 432x288 with 1 Axes>"
      ]
     },
     "metadata": {
      "needs_background": "light"
     },
     "output_type": "display_data"
    },
    {
     "name": "stderr",
     "output_type": "stream",
     "text": [
      "\r",
      " 33%|███▎      | 1/3 [00:01<00:02,  1.38s/it]"
     ]
    },
    {
     "name": "stdout",
     "output_type": "stream",
     "text": [
      "For model number  300\n",
      "Training ROC\n"
     ]
    },
    {
     "data": {
      "image/png": "[encoded data removed]",
      "text/plain": [
       "<Figure size 432x288 with 1 Axes>"
      ]
     },
     "metadata": {
      "needs_background": "light"
     },
     "output_type": "display_data"
    },
    {
     "name": "stdout",
     "output_type": "stream",
     "text": [
      "Testing ROC\n"
     ]
    },
    {
     "data": {
      "image/png": "[encoded data removed]",
      "text/plain": [
       "<Figure size 432x288 with 1 Axes>"
      ]
     },
     "metadata": {
      "needs_background": "light"
     },
     "output_type": "display_data"
    },
    {
     "name": "stderr",
     "output_type": "stream",
     "text": [
      "\r",
      " 67%|██████▋   | 2/3 [00:27<00:16, 16.14s/it]"
     ]
    },
    {
     "name": "stdout",
     "output_type": "stream",
     "text": [
      "For model number  1000\n",
      "Training ROC\n"
     ]
    },
    {
     "data": {
      "image/png": "[encoded data removed]",
      "text/plain": [
       "<Figure size 432x288 with 1 Axes>"
      ]
     },
     "metadata": {
      "needs_background": "light"
     },
     "output_type": "display_data"
    },
    {
     "name": "stdout",
     "output_type": "stream",
     "text": [
      "Testing ROC\n"
     ]
    },
    {
     "data": {
      "image/png": "[encoded data removed]",
      "text/plain": [
       "<Figure size 432x288 with 1 Axes>"
      ]
     },
     "metadata": {
      "needs_background": "light"
     },
     "output_type": "display_data"
    },
    {
     "name": "stderr",
     "output_type": "stream",
     "text": [
      "100%|██████████| 3/3 [01:51<00:00, 37.21s/it]\n"
     ]
    }
   ],
   "source": [
    "# df_dict = {}\n",
    "# model_number_range = [10,300,1000]\n",
    "# score_name = ['accuracy','error','precision','recall','f1','auc']\n",
    "# estimators = {\n",
    "#     'Logistic Regression': LogisticRegression(), \n",
    "#     'Decision Tree Stump': DecisionTreeClassifier(max_depth = 1)}\n",
    "\n",
    "# for estimator_name, estimator_object in estimators.items():\n",
    "#     df_dict[estimator_name + \" train\"] = pd.DataFrame(columns = score_name, index = model_number_range)\n",
    "#     df_dict[estimator_name + \" test\"] = pd.DataFrame(columns = score_name, index = model_number_range)\n",
    "#     print('For estimator ' + estimator_name)\n",
    "#     for i in tqdm(model_number_range):\n",
    "#         print('For model number ', i)\n",
    "#         ada = AdaBoostClassifier(base_estimator = estimator_object, n_estimators = i)\n",
    "#         ada = ada.fit(X_train_selected, y_train.values.ravel())\n",
    "\n",
    "#         train_predict = ada.predict(X_train_selected)\n",
    "#         test_predict = ada.predict(X_test_selected)\n",
    "\n",
    "#         acc_train = accuracy_score(y_train, train_predict)\n",
    "#         acc_test = accuracy_score(y_test, test_predict)\n",
    "        \n",
    "#         precision_train = precision_score(y_train, train_predict)\n",
    "#         precision_test = precision_score(y_test, test_predict)\n",
    "\n",
    "#         recall_train = recall_score(y_train, train_predict)\n",
    "#         recall_test = recall_score(y_test, test_predict)\n",
    "\n",
    "#         df_dict[estimator_name + \" train\"].loc[i, 'accuracy'] = acc_train\n",
    "#         df_dict[estimator_name + \" train\"].loc[i, 'error'] = 1 - acc_train\n",
    "#         df_dict[estimator_name + \" train\"].loc[i, 'precision'] = precision_train\n",
    "#         df_dict[estimator_name + \" train\"].loc[i, 'recall'] = recall_train\n",
    "#         df_dict[estimator_name + \" train\"].loc[i, 'f1'] = f1_score(y_train, train_predict)\n",
    "#         df_dict[estimator_name + \" train\"].loc[i, 'auc'] = roc_auc_score(y_train, train_predict)\n",
    "#         df_dict[estimator_name + \" test\"].loc[i, 'accuracy'] = acc_test\n",
    "#         df_dict[estimator_name + \" test\"].loc[i, 'error'] = 1 - acc_test\n",
    "#         df_dict[estimator_name + \" test\"].loc[i, 'precision'] = precision_test\n",
    "#         df_dict[estimator_name + \" test\"].loc[i, 'recall'] = recall_test\n",
    "#         df_dict[estimator_name + \" test\"].loc[i, 'f1'] = f1_score(y_test, test_predict)\n",
    "#         df_dict[estimator_name + \" test\"].loc[i, 'auc'] = roc_auc_score(y_test, test_predict)\n",
    "#         print(\"Training ROC\")\n",
    "#         metrics.plot_roc_curve(ada, X_train_selected, y_train) \n",
    "#         plt.show()\n",
    "#         print(\"Testing ROC\")\n",
    "#         metrics.plot_roc_curve(ada, X_test_selected, y_test) \n",
    "#         plt.show()"
   ]
  },
  {
   "cell_type": "code",
   "execution_count": 147,
   "id": "11b79bfd",
   "metadata": {
    "scrolled": true
   },
   "outputs": [
    {
     "data": {
      "text/plain": [
       "{'Logistic Regression train':       accuracy     error precision    recall        f1       auc\n",
       " 10    0.857962  0.142038  0.838641  0.833795  0.836211  0.855176\n",
       " 300    0.85926   0.14074  0.835554  0.842083  0.838806   0.85728\n",
       " 1000   0.85926   0.14074  0.835554  0.842083  0.838806   0.85728,\n",
       " 'Logistic Regression test':       accuracy     error precision    recall        f1       auc\n",
       " 10    0.860435  0.139565  0.841482  0.835365  0.838412  0.857489\n",
       " 300   0.860404  0.139596  0.837449  0.841209  0.839324  0.858149\n",
       " 1000  0.860404  0.139596  0.837449  0.841209  0.839324  0.858149,\n",
       " 'Decision Tree Stump train':       accuracy     error precision    recall        f1       auc\n",
       " 10    0.889718  0.110282  0.889658  0.852075  0.870461  0.885379\n",
       " 300   0.928034  0.071966  0.923908  0.909403  0.916598  0.925886\n",
       " 1000  0.928054  0.071946  0.923952  0.909403   0.91662  0.925904,\n",
       " 'Decision Tree Stump test':       accuracy     error precision    recall        f1       auc\n",
       " 10    0.890801  0.109199     0.891  0.852327  0.871234   0.88628\n",
       " 300    0.92787   0.07213  0.924137  0.908132  0.916065  0.925551\n",
       " 1000  0.927561  0.072439  0.923774  0.907776  0.915705  0.925236}"
      ]
     },
     "execution_count": 147,
     "metadata": {},
     "output_type": "execute_result"
    }
   ],
   "source": [
    "# #Printing metrics for boosting with different base models\n",
    "# df_dict"
   ]
  },
  {
   "cell_type": "code",
   "execution_count": null,
   "id": "d515d10f",
   "metadata": {},
   "outputs": [],
   "source": []
  }
 ],
 "metadata": {
  "kernelspec": {
   "display_name": "Python 3 (ipykernel)",
   "language": "python",
   "name": "python3"
  },
  "language_info": {
   "codemirror_mode": {
    "name": "ipython",
    "version": 3
   },
   "file_extension": ".py",
   "mimetype": "text/x-python",
   "name": "python",
   "nbconvert_exporter": "python",
   "pygments_lexer": "ipython3",
   "version": "3.9.7"
  }
 },
 "nbformat": 4,
 "nbformat_minor": 5
}
